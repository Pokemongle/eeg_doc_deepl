{
 "cells": [
  {
   "cell_type": "markdown",
   "id": "1f3f61f3",
   "metadata": {},
   "source": [
    "# 1. 必要的头文件"
   ]
  },
  {
   "cell_type": "code",
   "execution_count": 1,
   "id": "3c52b7b3",
   "metadata": {},
   "outputs": [],
   "source": [
    "import torch\n",
    "import torchvision\n",
    "import time\n",
    "from torch import nn\n",
    "from torch.utils.data import DataLoader\n",
    "from torchvision import transforms\n",
    "from tqdm.notebook import tqdm\n",
    "import os\n",
    "import scipy.io\n",
    "from random import random\n",
    "import numpy as np\n",
    "import matplotlib.pyplot as plt\n",
    "from mpl_toolkits.mplot3d import Axes3D\n",
    "from matplotlib.colors import Normalize\n",
    "from matplotlib.colorbar import ColorbarBase\n",
    "import matplotlib.cm as cm\n",
    "import gc\n",
    "from torch.utils.tensorboard import SummaryWriter\n",
    "from torch.utils.data import TensorDataset\n",
    "from torch.utils.data import DataLoader\n",
    "import pandas\n",
    "from load_data import MyData  # self-made\n",
    "from data_preprocess import generate_eegmap\n",
    "from data_preprocess import generate_eegmap_chunks\n",
    "from data_preprocess import generate_eegstrip\n",
    "from img_show import draw_eegmap"
   ]
  },
  {
   "cell_type": "code",
   "execution_count": 2,
   "id": "234e7bb6",
   "metadata": {},
   "outputs": [
    {
     "data": {
      "application/vnd.jupyter.widget-view+json": {
       "model_id": "b124dfabf9334670860e0518d50f9180",
       "version_major": 2,
       "version_minor": 0
      },
      "text/plain": [
       "  0%|          | 0/1 [00:00<?, ?it/s]"
      ]
     },
     "metadata": {},
     "output_type": "display_data"
    },
    {
     "name": "stdout",
     "output_type": "stream",
     "text": [
      "torch.Size([48, 2400, 10, 11])\n"
     ]
    }
   ],
   "source": [
    "root_dir = \"../data/eegmap_chunks\"\n",
    "exper_dir = \"rest\"\n",
    "# condition_dir: hc, mcs, uws\n",
    "condi_dir = \"hc\"\n",
    "dataset = MyData(root_dir, exper_dir, condi_dir) # eg.conditionA/hc\n",
    "for person in tqdm(range(len(dataset))):  # 12种情况中的1种，其中的所有被试\n",
    "    # filepath是最子文件夹中每个.mat文件的名字\n",
    "    # path是包含当前情况的.mat文件的子文件夹\n",
    "    filename = os.path.join(dataset.path, dataset.file_path[person])  # eg. conditionA\\hc\\hc1.mat\n",
    "    data = torch.load(filename)\n",
    "    print(data.shape)"
   ]
  },
  {
   "cell_type": "markdown",
   "id": "d5816388",
   "metadata": {},
   "source": [
    "# 2. 构建脑电地形图时间序列"
   ]
  },
  {
   "cell_type": "markdown",
   "id": "ad4dd054",
   "metadata": {},
   "source": [
    "## 数据预览"
   ]
  },
  {
   "cell_type": "code",
   "execution_count": 2,
   "id": "7411795b",
   "metadata": {},
   "outputs": [
    {
     "data": {
      "application/vnd.jupyter.widget-view+json": {
       "model_id": "989082131d0244e7b12744465f9c3109",
       "version_major": 2,
       "version_minor": 0
      },
      "text/plain": [
       "  0%|          | 0/18 [00:00<?, ?it/s]"
      ]
     },
     "metadata": {},
     "output_type": "display_data"
    },
    {
     "name": "stdout",
     "output_type": "stream",
     "text": [
      "(59, 2400, 48)\n",
      "(59, 2400, 63)\n",
      "(59, 2400, 40)\n",
      "(59, 2400, 45)\n",
      "(59, 2400, 40)\n",
      "(59, 2400, 36)\n",
      "(59, 2400, 49)\n",
      "(59, 2400, 46)\n",
      "(59, 2400, 50)\n",
      "(59, 2400, 46)\n",
      "(59, 2400, 49)\n",
      "(59, 2400, 48)\n",
      "(59, 2400, 48)\n",
      "(59, 2400, 49)\n",
      "(59, 2400, 47)\n",
      "(59, 2400, 47)\n",
      "(59, 2400, 52)\n",
      "(59, 2400, 49)\n"
     ]
    }
   ],
   "source": [
    "root_dir = \"../data/eegdata_mat\"\n",
    "exper_dir = \"rest\"\n",
    "# condition_dir: hc, mcs, uws\n",
    "condi_dir = \"hc\"\n",
    "dataset = MyData(root_dir, exper_dir, condi_dir) # eg.conditionA/hc\n",
    "for person in tqdm(range(len(dataset))):  # 12种情况中的1种，其中的所有被试\n",
    "    # filepath是最子文件夹中每个.mat文件的名字\n",
    "    # path是包含当前情况的.mat文件的子文件夹\n",
    "    filename = os.path.join(dataset.path, dataset.file_path[person])  # eg. conditionA\\hc\\hc1.mat\n",
    "    data = scipy.io.loadmat(filename)  # 读取该被试的数据为字典\n",
    "    data = data['datas']  # 键值对读取59*2400*[paras]的数据矩阵\n",
    "    print(data.shape)"
   ]
  },
  {
   "cell_type": "markdown",
   "id": "5090b583",
   "metadata": {},
   "source": [
    "## 2.1.1  每个被试的[59×2400×段数]->[10×11×2400×分组数]"
   ]
  },
  {
   "cell_type": "code",
   "execution_count": 3,
   "id": "440729cc",
   "metadata": {},
   "outputs": [
    {
     "name": "stdout",
     "output_type": "stream",
     "text": [
      "[ 0  1  2  3  4  5  6  7  8  9 10 11 12 13 14 15 16 17 18 19 20 21 22 23\n",
      " 24 25 26 27 28 29 30 31 32 33 34 35 36 37 38 39 40 41 42 43 44 45 46 47\n",
      " 48 49 50 51 52 53 54 55 56 57 58]\n",
      "tensor([ 0,  1,  2,  3,  4,  5,  6,  7,  8,  9, 10, 11, 12, 13, 14, 15, 16, 17,\n",
      "        18, 19, 20, 21, 22, 23, 24, 25, 26, 27, 28, 29, 30, 31, 32, 33, 34, 35,\n",
      "        36, 37, 38, 39, 40, 41, 42, 43, 44, 45, 46, 47, 48, 49, 50, 51, 52, 53,\n",
      "        54, 55, 56, 57, 58], dtype=torch.int32)\n"
     ]
    }
   ],
   "source": [
    "my_index = np.arange(59)\n",
    "print(my_index)\n",
    "my_index = torch.tensor(my_index)\n",
    "print(my_index)"
   ]
  },
  {
   "cell_type": "markdown",
   "id": "15a409e8",
   "metadata": {},
   "source": [
    "## 查看数据"
   ]
  },
  {
   "cell_type": "code",
   "execution_count": 3,
   "id": "d691a877",
   "metadata": {},
   "outputs": [
    {
     "data": {
      "application/vnd.jupyter.widget-view+json": {
       "model_id": "5e8b9eb93e7b43d99df4c3e26e4249e3",
       "version_major": 2,
       "version_minor": 0
      },
      "text/plain": [
       "  0%|          | 0/1 [00:00<?, ?it/s]"
      ]
     },
     "metadata": {},
     "output_type": "display_data"
    },
    {
     "name": "stdout",
     "output_type": "stream",
     "text": [
      "torch.Size([48, 2400, 10, 11])\n"
     ]
    },
    {
     "data": {
      "application/vnd.jupyter.widget-view+json": {
       "model_id": "ad7454e692dd42f796c30e05eb9e0c1e",
       "version_major": 2,
       "version_minor": 0
      },
      "text/plain": [
       "  0%|          | 0/1 [00:00<?, ?it/s]"
      ]
     },
     "metadata": {},
     "output_type": "display_data"
    },
    {
     "name": "stdout",
     "output_type": "stream",
     "text": [
      "torch.Size([1051, 2400, 10, 11])\n"
     ]
    },
    {
     "data": {
      "application/vnd.jupyter.widget-view+json": {
       "model_id": "821251c16d9949a998e3e271ddba545f",
       "version_major": 2,
       "version_minor": 0
      },
      "text/plain": [
       "  0%|          | 0/1 [00:00<?, ?it/s]"
      ]
     },
     "metadata": {},
     "output_type": "display_data"
    },
    {
     "name": "stdout",
     "output_type": "stream",
     "text": [
      "torch.Size([872, 2400, 10, 11])\n"
     ]
    }
   ],
   "source": [
    "# origin eeg data # 原始eeg数据\n",
    "root_dir = \"../data/eegmap_chunks\"\n",
    "exper_list = ['rest']\n",
    "condi_list = ['hc','mcs','uws']\n",
    "for exper_dir in exper_list:\n",
    "    for condi_dir in condi_list:\n",
    "        dataset = MyData(root_dir, exper_dir, condi_dir) # eg.conditionA\\hc\n",
    "        for person in tqdm(range(len(dataset))):  # 12种情况中的1种，其中的所有被试\n",
    "            filename = os.path.join(dataset.path, dataset.file_path[person])  # eg. conditionA\\hc\\hc1.set.mat\n",
    "            ext = os.path.splitext(filename)[1].lower()\n",
    "            if ext == '.mat':\n",
    "                data = scipy.io.loadmat(filename)\n",
    "            elif ext == '.csv':\n",
    "                data = pd.read_csv(filename).values\n",
    "            elif ext == '.txt':\n",
    "                data = np.loadtxt(filename)\n",
    "            elif ext == '.pt':\n",
    "                data = torch.load(filename)\n",
    "#             data = data['datas']\n",
    "#             print(np.array(data).shape)\n",
    "            print(data.shape)"
   ]
  },
  {
   "cell_type": "markdown",
   "id": "1598ae46",
   "metadata": {},
   "source": [
    "# 创建EEGmap"
   ]
  },
  {
   "cell_type": "code",
   "execution_count": 3,
   "id": "0f8e389d",
   "metadata": {
    "scrolled": false
   },
   "outputs": [
    {
     "data": {
      "image/png": "[encoded data removed]",
      "text/plain": [
       "<Figure size 1440x792 with 2 Axes>"
      ]
     },
     "metadata": {
      "needs_background": "light"
     },
     "output_type": "display_data"
    },
    {
     "data": {
      "application/vnd.jupyter.widget-view+json": {
       "model_id": "dc63db8b73734d3f8db24ec6ab8029ae",
       "version_major": 2,
       "version_minor": 0
      },
      "text/plain": [
       "  0%|          | 0/18 [00:00<?, ?it/s]"
      ]
     },
     "metadata": {},
     "output_type": "display_data"
    },
    {
     "name": "stdout",
     "output_type": "stream",
     "text": [
      "----现在处理：hc1.mat，共48段----\n"
     ]
    },
    {
     "data": {
      "application/vnd.jupyter.widget-view+json": {
       "model_id": "fb4136c5ec1c4bf09f43fab87d0307ce",
       "version_major": 2,
       "version_minor": 0
      },
      "text/plain": [
       "  0%|          | 0/48 [00:00<?, ?it/s]"
      ]
     },
     "metadata": {},
     "output_type": "display_data"
    },
    {
     "name": "stdout",
     "output_type": "stream",
     "text": [
      "----现在处理：hc10.mat，共63段----\n"
     ]
    },
    {
     "data": {
      "application/vnd.jupyter.widget-view+json": {
       "model_id": "a4012e0f7c46444eae2dca029d05ce90",
       "version_major": 2,
       "version_minor": 0
      },
      "text/plain": [
       "  0%|          | 0/63 [00:00<?, ?it/s]"
      ]
     },
     "metadata": {},
     "output_type": "display_data"
    },
    {
     "name": "stdout",
     "output_type": "stream",
     "text": [
      "----现在处理：hc11.mat，共40段----\n"
     ]
    },
    {
     "data": {
      "application/vnd.jupyter.widget-view+json": {
       "model_id": "b175a63da1494ff1918f5d249290f123",
       "version_major": 2,
       "version_minor": 0
      },
      "text/plain": [
       "  0%|          | 0/40 [00:00<?, ?it/s]"
      ]
     },
     "metadata": {},
     "output_type": "display_data"
    },
    {
     "name": "stdout",
     "output_type": "stream",
     "text": [
      "----现在处理：hc12.mat，共45段----\n"
     ]
    },
    {
     "data": {
      "application/vnd.jupyter.widget-view+json": {
       "model_id": "19015751fdc249248823ccb45932370b",
       "version_major": 2,
       "version_minor": 0
      },
      "text/plain": [
       "  0%|          | 0/45 [00:00<?, ?it/s]"
      ]
     },
     "metadata": {},
     "output_type": "display_data"
    },
    {
     "name": "stdout",
     "output_type": "stream",
     "text": [
      "----现在处理：hc13.mat，共40段----\n"
     ]
    },
    {
     "data": {
      "application/vnd.jupyter.widget-view+json": {
       "model_id": "89324e6a093c4ef786cc325ddd7ac3c5",
       "version_major": 2,
       "version_minor": 0
      },
      "text/plain": [
       "  0%|          | 0/40 [00:00<?, ?it/s]"
      ]
     },
     "metadata": {},
     "output_type": "display_data"
    },
    {
     "name": "stdout",
     "output_type": "stream",
     "text": [
      "----现在处理：hc14.mat，共36段----\n"
     ]
    },
    {
     "data": {
      "application/vnd.jupyter.widget-view+json": {
       "model_id": "954a88fb43bc40448c343e133ca3ca6b",
       "version_major": 2,
       "version_minor": 0
      },
      "text/plain": [
       "  0%|          | 0/36 [00:00<?, ?it/s]"
      ]
     },
     "metadata": {},
     "output_type": "display_data"
    },
    {
     "name": "stdout",
     "output_type": "stream",
     "text": [
      "----现在处理：hc15.mat，共49段----\n"
     ]
    },
    {
     "data": {
      "application/vnd.jupyter.widget-view+json": {
       "model_id": "370e850cc4b9437389530ec651766043",
       "version_major": 2,
       "version_minor": 0
      },
      "text/plain": [
       "  0%|          | 0/49 [00:00<?, ?it/s]"
      ]
     },
     "metadata": {},
     "output_type": "display_data"
    },
    {
     "name": "stdout",
     "output_type": "stream",
     "text": [
      "----现在处理：hc16.mat，共46段----\n"
     ]
    },
    {
     "data": {
      "application/vnd.jupyter.widget-view+json": {
       "model_id": "106c6be1fa41468dbb038d2f0aadcc22",
       "version_major": 2,
       "version_minor": 0
      },
      "text/plain": [
       "  0%|          | 0/46 [00:00<?, ?it/s]"
      ]
     },
     "metadata": {},
     "output_type": "display_data"
    },
    {
     "name": "stdout",
     "output_type": "stream",
     "text": [
      "----现在处理：hc17.mat，共50段----\n"
     ]
    },
    {
     "data": {
      "application/vnd.jupyter.widget-view+json": {
       "model_id": "bb90f25786244d90b8203b372a0b78d6",
       "version_major": 2,
       "version_minor": 0
      },
      "text/plain": [
       "  0%|          | 0/50 [00:00<?, ?it/s]"
      ]
     },
     "metadata": {},
     "output_type": "display_data"
    },
    {
     "name": "stdout",
     "output_type": "stream",
     "text": [
      "----现在处理：hc18.mat，共46段----\n"
     ]
    },
    {
     "data": {
      "application/vnd.jupyter.widget-view+json": {
       "model_id": "4f9ea5d0f2bf4a7a850d852f238beac5",
       "version_major": 2,
       "version_minor": 0
      },
      "text/plain": [
       "  0%|          | 0/46 [00:00<?, ?it/s]"
      ]
     },
     "metadata": {},
     "output_type": "display_data"
    },
    {
     "name": "stdout",
     "output_type": "stream",
     "text": [
      "----现在处理：hc21.mat，共49段----\n"
     ]
    },
    {
     "data": {
      "application/vnd.jupyter.widget-view+json": {
       "model_id": "274ba4b2feef4562908a9ebf7cd4a6f8",
       "version_major": 2,
       "version_minor": 0
      },
      "text/plain": [
       "  0%|          | 0/49 [00:00<?, ?it/s]"
      ]
     },
     "metadata": {},
     "output_type": "display_data"
    },
    {
     "name": "stdout",
     "output_type": "stream",
     "text": [
      "----现在处理：hc22.mat，共48段----\n"
     ]
    },
    {
     "data": {
      "application/vnd.jupyter.widget-view+json": {
       "model_id": "37c1c651d64341b5b1033372f8f706c9",
       "version_major": 2,
       "version_minor": 0
      },
      "text/plain": [
       "  0%|          | 0/48 [00:00<?, ?it/s]"
      ]
     },
     "metadata": {},
     "output_type": "display_data"
    },
    {
     "name": "stdout",
     "output_type": "stream",
     "text": [
      "----现在处理：hc3.mat，共48段----\n"
     ]
    },
    {
     "data": {
      "application/vnd.jupyter.widget-view+json": {
       "model_id": "eb2ab783c872412abc4c15eeccf71447",
       "version_major": 2,
       "version_minor": 0
      },
      "text/plain": [
       "  0%|          | 0/48 [00:00<?, ?it/s]"
      ]
     },
     "metadata": {},
     "output_type": "display_data"
    },
    {
     "name": "stdout",
     "output_type": "stream",
     "text": [
      "----现在处理：hc5.mat，共49段----\n"
     ]
    },
    {
     "data": {
      "application/vnd.jupyter.widget-view+json": {
       "model_id": "6c4d12462d844891bc3bd9cf9bd769ba",
       "version_major": 2,
       "version_minor": 0
      },
      "text/plain": [
       "  0%|          | 0/49 [00:00<?, ?it/s]"
      ]
     },
     "metadata": {},
     "output_type": "display_data"
    },
    {
     "name": "stdout",
     "output_type": "stream",
     "text": [
      "----现在处理：hc6.mat，共47段----\n"
     ]
    },
    {
     "data": {
      "application/vnd.jupyter.widget-view+json": {
       "model_id": "99128726ad7a4abd912f684e7a2131ed",
       "version_major": 2,
       "version_minor": 0
      },
      "text/plain": [
       "  0%|          | 0/47 [00:00<?, ?it/s]"
      ]
     },
     "metadata": {},
     "output_type": "display_data"
    },
    {
     "name": "stdout",
     "output_type": "stream",
     "text": [
      "----现在处理：hc7.mat，共47段----\n"
     ]
    },
    {
     "data": {
      "application/vnd.jupyter.widget-view+json": {
       "model_id": "66a5f21faed6468ea9b79e783085a374",
       "version_major": 2,
       "version_minor": 0
      },
      "text/plain": [
       "  0%|          | 0/47 [00:00<?, ?it/s]"
      ]
     },
     "metadata": {},
     "output_type": "display_data"
    },
    {
     "name": "stdout",
     "output_type": "stream",
     "text": [
      "----现在处理：hc8.mat，共52段----\n"
     ]
    },
    {
     "data": {
      "application/vnd.jupyter.widget-view+json": {
       "model_id": "bec12399e2604cf0a8daf44d13395178",
       "version_major": 2,
       "version_minor": 0
      },
      "text/plain": [
       "  0%|          | 0/52 [00:00<?, ?it/s]"
      ]
     },
     "metadata": {},
     "output_type": "display_data"
    },
    {
     "name": "stdout",
     "output_type": "stream",
     "text": [
      "----现在处理：hc9.mat，共49段----\n"
     ]
    },
    {
     "data": {
      "application/vnd.jupyter.widget-view+json": {
       "model_id": "cb9085d9ede54fe3a59658e9f49f41d7",
       "version_major": 2,
       "version_minor": 0
      },
      "text/plain": [
       "  0%|          | 0/49 [00:00<?, ?it/s]"
      ]
     },
     "metadata": {},
     "output_type": "display_data"
    },
    {
     "data": {
      "application/vnd.jupyter.widget-view+json": {
       "model_id": "af8ae40bb5394c69a20654d52016cb39",
       "version_major": 2,
       "version_minor": 0
      },
      "text/plain": [
       "  0%|          | 0/22 [00:00<?, ?it/s]"
      ]
     },
     "metadata": {},
     "output_type": "display_data"
    },
    {
     "name": "stdout",
     "output_type": "stream",
     "text": [
      "----现在处理：mcs10.mat，共41段----\n"
     ]
    },
    {
     "data": {
      "application/vnd.jupyter.widget-view+json": {
       "model_id": "b6790d6b3d5e4c4e8a61787cdd778df4",
       "version_major": 2,
       "version_minor": 0
      },
      "text/plain": [
       "  0%|          | 0/41 [00:00<?, ?it/s]"
      ]
     },
     "metadata": {},
     "output_type": "display_data"
    },
    {
     "name": "stdout",
     "output_type": "stream",
     "text": [
      "----现在处理：mcs11.mat，共52段----\n"
     ]
    },
    {
     "data": {
      "application/vnd.jupyter.widget-view+json": {
       "model_id": "56d89fe5266b4eeeb849f1cc1a7cdb01",
       "version_major": 2,
       "version_minor": 0
      },
      "text/plain": [
       "  0%|          | 0/52 [00:00<?, ?it/s]"
      ]
     },
     "metadata": {},
     "output_type": "display_data"
    },
    {
     "name": "stdout",
     "output_type": "stream",
     "text": [
      "----现在处理：mcs13.mat，共48段----\n"
     ]
    },
    {
     "data": {
      "application/vnd.jupyter.widget-view+json": {
       "model_id": "69f766ba7af5438894bd94eb03bf4db6",
       "version_major": 2,
       "version_minor": 0
      },
      "text/plain": [
       "  0%|          | 0/48 [00:00<?, ?it/s]"
      ]
     },
     "metadata": {},
     "output_type": "display_data"
    },
    {
     "name": "stdout",
     "output_type": "stream",
     "text": [
      "----现在处理：mcs14.mat，共49段----\n"
     ]
    },
    {
     "data": {
      "application/vnd.jupyter.widget-view+json": {
       "model_id": "e90005b4186641c4be0d11bbb3c2527e",
       "version_major": 2,
       "version_minor": 0
      },
      "text/plain": [
       "  0%|          | 0/49 [00:00<?, ?it/s]"
      ]
     },
     "metadata": {},
     "output_type": "display_data"
    },
    {
     "name": "stdout",
     "output_type": "stream",
     "text": [
      "----现在处理：mcs15.mat，共51段----\n"
     ]
    },
    {
     "data": {
      "application/vnd.jupyter.widget-view+json": {
       "model_id": "406d00c72cf543459e18d39641cc31f8",
       "version_major": 2,
       "version_minor": 0
      },
      "text/plain": [
       "  0%|          | 0/51 [00:00<?, ?it/s]"
      ]
     },
     "metadata": {},
     "output_type": "display_data"
    },
    {
     "name": "stdout",
     "output_type": "stream",
     "text": [
      "----现在处理：mcs16.mat，共50段----\n"
     ]
    },
    {
     "data": {
      "application/vnd.jupyter.widget-view+json": {
       "model_id": "802361a143454fbbbcfc38da36f1e2b7",
       "version_major": 2,
       "version_minor": 0
      },
      "text/plain": [
       "  0%|          | 0/50 [00:00<?, ?it/s]"
      ]
     },
     "metadata": {},
     "output_type": "display_data"
    },
    {
     "name": "stdout",
     "output_type": "stream",
     "text": [
      "----现在处理：mcs17.mat，共50段----\n"
     ]
    },
    {
     "data": {
      "application/vnd.jupyter.widget-view+json": {
       "model_id": "302b7720262e4b8fb7adb6f186e07bab",
       "version_major": 2,
       "version_minor": 0
      },
      "text/plain": [
       "  0%|          | 0/50 [00:00<?, ?it/s]"
      ]
     },
     "metadata": {},
     "output_type": "display_data"
    },
    {
     "name": "stdout",
     "output_type": "stream",
     "text": [
      "----现在处理：mcs18.mat，共48段----\n"
     ]
    },
    {
     "data": {
      "application/vnd.jupyter.widget-view+json": {
       "model_id": "a10ea19a10f146e3b616ea935845baf6",
       "version_major": 2,
       "version_minor": 0
      },
      "text/plain": [
       "  0%|          | 0/48 [00:00<?, ?it/s]"
      ]
     },
     "metadata": {},
     "output_type": "display_data"
    },
    {
     "name": "stdout",
     "output_type": "stream",
     "text": [
      "----现在处理：mcs19.mat，共44段----\n"
     ]
    },
    {
     "data": {
      "application/vnd.jupyter.widget-view+json": {
       "model_id": "a9fbe52a18a74af9b2fef700ab956476",
       "version_major": 2,
       "version_minor": 0
      },
      "text/plain": [
       "  0%|          | 0/44 [00:00<?, ?it/s]"
      ]
     },
     "metadata": {},
     "output_type": "display_data"
    },
    {
     "name": "stdout",
     "output_type": "stream",
     "text": [
      "----现在处理：mcs2.mat，共45段----\n"
     ]
    },
    {
     "data": {
      "application/vnd.jupyter.widget-view+json": {
       "model_id": "8e86e14c7adb481e8445bd55216ba6b3",
       "version_major": 2,
       "version_minor": 0
      },
      "text/plain": [
       "  0%|          | 0/45 [00:00<?, ?it/s]"
      ]
     },
     "metadata": {},
     "output_type": "display_data"
    },
    {
     "name": "stdout",
     "output_type": "stream",
     "text": [
      "----现在处理：mcs20.mat，共47段----\n"
     ]
    },
    {
     "data": {
      "application/vnd.jupyter.widget-view+json": {
       "model_id": "7a0143c4cf274963b898e8984d075dc8",
       "version_major": 2,
       "version_minor": 0
      },
      "text/plain": [
       "  0%|          | 0/47 [00:00<?, ?it/s]"
      ]
     },
     "metadata": {},
     "output_type": "display_data"
    },
    {
     "name": "stdout",
     "output_type": "stream",
     "text": [
      "----现在处理：mcs21.mat，共40段----\n"
     ]
    },
    {
     "data": {
      "application/vnd.jupyter.widget-view+json": {
       "model_id": "8bdfb52ee48445e4869e326a3c29d861",
       "version_major": 2,
       "version_minor": 0
      },
      "text/plain": [
       "  0%|          | 0/40 [00:00<?, ?it/s]"
      ]
     },
     "metadata": {},
     "output_type": "display_data"
    },
    {
     "name": "stdout",
     "output_type": "stream",
     "text": [
      "----现在处理：mcs22.mat，共42段----\n"
     ]
    },
    {
     "data": {
      "application/vnd.jupyter.widget-view+json": {
       "model_id": "f18fde4538454ba39b8734c4a1bd8520",
       "version_major": 2,
       "version_minor": 0
      },
      "text/plain": [
       "  0%|          | 0/42 [00:00<?, ?it/s]"
      ]
     },
     "metadata": {},
     "output_type": "display_data"
    },
    {
     "name": "stdout",
     "output_type": "stream",
     "text": [
      "----现在处理：mcs23.mat，共52段----\n"
     ]
    },
    {
     "data": {
      "application/vnd.jupyter.widget-view+json": {
       "model_id": "8f62497b160d4b388aacbf275f3a05fa",
       "version_major": 2,
       "version_minor": 0
      },
      "text/plain": [
       "  0%|          | 0/52 [00:00<?, ?it/s]"
      ]
     },
     "metadata": {},
     "output_type": "display_data"
    },
    {
     "name": "stdout",
     "output_type": "stream",
     "text": [
      "----现在处理：mcs24.mat，共51段----\n"
     ]
    },
    {
     "data": {
      "application/vnd.jupyter.widget-view+json": {
       "model_id": "08bce4152f3043c49c4bc545d51548cd",
       "version_major": 2,
       "version_minor": 0
      },
      "text/plain": [
       "  0%|          | 0/51 [00:00<?, ?it/s]"
      ]
     },
     "metadata": {},
     "output_type": "display_data"
    },
    {
     "name": "stdout",
     "output_type": "stream",
     "text": [
      "----现在处理：mcs3.mat，共39段----\n"
     ]
    },
    {
     "data": {
      "application/vnd.jupyter.widget-view+json": {
       "model_id": "4cc84b3937ca489f84af45f1793223f6",
       "version_major": 2,
       "version_minor": 0
      },
      "text/plain": [
       "  0%|          | 0/39 [00:00<?, ?it/s]"
      ]
     },
     "metadata": {},
     "output_type": "display_data"
    },
    {
     "name": "stdout",
     "output_type": "stream",
     "text": [
      "----现在处理：mcs4.mat，共61段----\n"
     ]
    },
    {
     "data": {
      "application/vnd.jupyter.widget-view+json": {
       "model_id": "1462436c2f0d4900b671a0fdcf709636",
       "version_major": 2,
       "version_minor": 0
      },
      "text/plain": [
       "  0%|          | 0/61 [00:00<?, ?it/s]"
      ]
     },
     "metadata": {},
     "output_type": "display_data"
    },
    {
     "name": "stdout",
     "output_type": "stream",
     "text": [
      "----现在处理：mcs5.mat，共50段----\n"
     ]
    },
    {
     "data": {
      "application/vnd.jupyter.widget-view+json": {
       "model_id": "ccc8085f3374430aa621b818bf837a5b",
       "version_major": 2,
       "version_minor": 0
      },
      "text/plain": [
       "  0%|          | 0/50 [00:00<?, ?it/s]"
      ]
     },
     "metadata": {},
     "output_type": "display_data"
    },
    {
     "name": "stdout",
     "output_type": "stream",
     "text": [
      "----现在处理：mcs6.mat，共37段----\n"
     ]
    },
    {
     "data": {
      "application/vnd.jupyter.widget-view+json": {
       "model_id": "455a238136534b4896b0161de4f0a23f",
       "version_major": 2,
       "version_minor": 0
      },
      "text/plain": [
       "  0%|          | 0/37 [00:00<?, ?it/s]"
      ]
     },
     "metadata": {},
     "output_type": "display_data"
    },
    {
     "name": "stdout",
     "output_type": "stream",
     "text": [
      "----现在处理：mcs7.mat，共59段----\n"
     ]
    },
    {
     "data": {
      "application/vnd.jupyter.widget-view+json": {
       "model_id": "27ddc0851b994c649ad00250fe5171d5",
       "version_major": 2,
       "version_minor": 0
      },
      "text/plain": [
       "  0%|          | 0/59 [00:00<?, ?it/s]"
      ]
     },
     "metadata": {},
     "output_type": "display_data"
    },
    {
     "name": "stdout",
     "output_type": "stream",
     "text": [
      "----现在处理：mcs8.mat，共47段----\n"
     ]
    },
    {
     "data": {
      "application/vnd.jupyter.widget-view+json": {
       "model_id": "7001a0b476144bc8ab696a713429bee4",
       "version_major": 2,
       "version_minor": 0
      },
      "text/plain": [
       "  0%|          | 0/47 [00:00<?, ?it/s]"
      ]
     },
     "metadata": {},
     "output_type": "display_data"
    },
    {
     "name": "stdout",
     "output_type": "stream",
     "text": [
      "----现在处理：mcs9.mat，共48段----\n"
     ]
    },
    {
     "data": {
      "application/vnd.jupyter.widget-view+json": {
       "model_id": "f66449bc2d744c99a56b3cd3c9cdf888",
       "version_major": 2,
       "version_minor": 0
      },
      "text/plain": [
       "  0%|          | 0/48 [00:00<?, ?it/s]"
      ]
     },
     "metadata": {},
     "output_type": "display_data"
    },
    {
     "data": {
      "application/vnd.jupyter.widget-view+json": {
       "model_id": "1b7b0036b286464a8aa3761d5f5e3c87",
       "version_major": 2,
       "version_minor": 0
      },
      "text/plain": [
       "  0%|          | 0/18 [00:00<?, ?it/s]"
      ]
     },
     "metadata": {},
     "output_type": "display_data"
    },
    {
     "name": "stdout",
     "output_type": "stream",
     "text": [
      "----现在处理：uws1.mat，共51段----\n"
     ]
    },
    {
     "data": {
      "application/vnd.jupyter.widget-view+json": {
       "model_id": "ae380eac5c7042e3a8cafd8107307e37",
       "version_major": 2,
       "version_minor": 0
      },
      "text/plain": [
       "  0%|          | 0/51 [00:00<?, ?it/s]"
      ]
     },
     "metadata": {},
     "output_type": "display_data"
    },
    {
     "name": "stdout",
     "output_type": "stream",
     "text": [
      "----现在处理：uws10.mat，共64段----\n"
     ]
    },
    {
     "data": {
      "application/vnd.jupyter.widget-view+json": {
       "model_id": "8db7e0f17a4a4c83961501270889f9b1",
       "version_major": 2,
       "version_minor": 0
      },
      "text/plain": [
       "  0%|          | 0/64 [00:00<?, ?it/s]"
      ]
     },
     "metadata": {},
     "output_type": "display_data"
    },
    {
     "name": "stdout",
     "output_type": "stream",
     "text": [
      "----现在处理：uws11.mat，共49段----\n"
     ]
    },
    {
     "data": {
      "application/vnd.jupyter.widget-view+json": {
       "model_id": "74121b10760d40f5aa0b49383f7e7f5c",
       "version_major": 2,
       "version_minor": 0
      },
      "text/plain": [
       "  0%|          | 0/49 [00:00<?, ?it/s]"
      ]
     },
     "metadata": {},
     "output_type": "display_data"
    },
    {
     "name": "stdout",
     "output_type": "stream",
     "text": [
      "----现在处理：uws13.mat，共45段----\n"
     ]
    },
    {
     "data": {
      "application/vnd.jupyter.widget-view+json": {
       "model_id": "4e3df485ef5d46f1815e4acda652680a",
       "version_major": 2,
       "version_minor": 0
      },
      "text/plain": [
       "  0%|          | 0/45 [00:00<?, ?it/s]"
      ]
     },
     "metadata": {},
     "output_type": "display_data"
    },
    {
     "name": "stdout",
     "output_type": "stream",
     "text": [
      "----现在处理：uws16.mat，共32段----\n"
     ]
    },
    {
     "data": {
      "application/vnd.jupyter.widget-view+json": {
       "model_id": "30842b63a7bd4ebdbae5cb957c5a5b78",
       "version_major": 2,
       "version_minor": 0
      },
      "text/plain": [
       "  0%|          | 0/32 [00:00<?, ?it/s]"
      ]
     },
     "metadata": {},
     "output_type": "display_data"
    },
    {
     "name": "stdout",
     "output_type": "stream",
     "text": [
      "----现在处理：uws17.mat，共48段----\n"
     ]
    },
    {
     "data": {
      "application/vnd.jupyter.widget-view+json": {
       "model_id": "f2ecfa6cdfa14e49976b335a61b9f0fa",
       "version_major": 2,
       "version_minor": 0
      },
      "text/plain": [
       "  0%|          | 0/48 [00:00<?, ?it/s]"
      ]
     },
     "metadata": {},
     "output_type": "display_data"
    },
    {
     "name": "stdout",
     "output_type": "stream",
     "text": [
      "----现在处理：uws2.mat，共48段----\n"
     ]
    },
    {
     "data": {
      "application/vnd.jupyter.widget-view+json": {
       "model_id": "47e864f2a74243fc9b2d7ecb8a6a6606",
       "version_major": 2,
       "version_minor": 0
      },
      "text/plain": [
       "  0%|          | 0/48 [00:00<?, ?it/s]"
      ]
     },
     "metadata": {},
     "output_type": "display_data"
    },
    {
     "name": "stdout",
     "output_type": "stream",
     "text": [
      "----现在处理：uws21.mat，共36段----\n"
     ]
    },
    {
     "data": {
      "application/vnd.jupyter.widget-view+json": {
       "model_id": "1b7605dcf204419492438ac417fcf234",
       "version_major": 2,
       "version_minor": 0
      },
      "text/plain": [
       "  0%|          | 0/36 [00:00<?, ?it/s]"
      ]
     },
     "metadata": {},
     "output_type": "display_data"
    },
    {
     "name": "stdout",
     "output_type": "stream",
     "text": [
      "----现在处理：uws22.mat，共46段----\n"
     ]
    },
    {
     "data": {
      "application/vnd.jupyter.widget-view+json": {
       "model_id": "04adb997c4304c5eacd7ea6ee621304f",
       "version_major": 2,
       "version_minor": 0
      },
      "text/plain": [
       "  0%|          | 0/46 [00:00<?, ?it/s]"
      ]
     },
     "metadata": {},
     "output_type": "display_data"
    },
    {
     "name": "stdout",
     "output_type": "stream",
     "text": [
      "----现在处理：uws23.mat，共30段----\n"
     ]
    },
    {
     "data": {
      "application/vnd.jupyter.widget-view+json": {
       "model_id": "b9837aaa8a814fd3ac537d8461de85ac",
       "version_major": 2,
       "version_minor": 0
      },
      "text/plain": [
       "  0%|          | 0/30 [00:00<?, ?it/s]"
      ]
     },
     "metadata": {},
     "output_type": "display_data"
    },
    {
     "name": "stdout",
     "output_type": "stream",
     "text": [
      "----现在处理：uws24.mat，共60段----\n"
     ]
    },
    {
     "data": {
      "application/vnd.jupyter.widget-view+json": {
       "model_id": "d84a4b56edfb47b0bd752cd7b8d0dec3",
       "version_major": 2,
       "version_minor": 0
      },
      "text/plain": [
       "  0%|          | 0/60 [00:00<?, ?it/s]"
      ]
     },
     "metadata": {},
     "output_type": "display_data"
    },
    {
     "name": "stdout",
     "output_type": "stream",
     "text": [
      "----现在处理：uws3.mat，共52段----\n"
     ]
    },
    {
     "data": {
      "application/vnd.jupyter.widget-view+json": {
       "model_id": "f4119b6dcf724c979d22a70ff7422a82",
       "version_major": 2,
       "version_minor": 0
      },
      "text/plain": [
       "  0%|          | 0/52 [00:00<?, ?it/s]"
      ]
     },
     "metadata": {},
     "output_type": "display_data"
    },
    {
     "name": "stdout",
     "output_type": "stream",
     "text": [
      "----现在处理：uws4.mat，共65段----\n"
     ]
    },
    {
     "data": {
      "application/vnd.jupyter.widget-view+json": {
       "model_id": "16b3a5257e024a9c9a7f8650cce91f94",
       "version_major": 2,
       "version_minor": 0
      },
      "text/plain": [
       "  0%|          | 0/65 [00:00<?, ?it/s]"
      ]
     },
     "metadata": {},
     "output_type": "display_data"
    },
    {
     "name": "stdout",
     "output_type": "stream",
     "text": [
      "----现在处理：uws5.mat，共52段----\n"
     ]
    },
    {
     "data": {
      "application/vnd.jupyter.widget-view+json": {
       "model_id": "f052d17ba8b94d39990ff2a5be58cae4",
       "version_major": 2,
       "version_minor": 0
      },
      "text/plain": [
       "  0%|          | 0/52 [00:00<?, ?it/s]"
      ]
     },
     "metadata": {},
     "output_type": "display_data"
    },
    {
     "name": "stdout",
     "output_type": "stream",
     "text": [
      "----现在处理：uws6.mat，共48段----\n"
     ]
    },
    {
     "data": {
      "application/vnd.jupyter.widget-view+json": {
       "model_id": "fbd5a82ca5684ae4860e637f893081af",
       "version_major": 2,
       "version_minor": 0
      },
      "text/plain": [
       "  0%|          | 0/48 [00:00<?, ?it/s]"
      ]
     },
     "metadata": {},
     "output_type": "display_data"
    },
    {
     "name": "stdout",
     "output_type": "stream",
     "text": [
      "----现在处理：uws7.mat，共49段----\n"
     ]
    },
    {
     "data": {
      "application/vnd.jupyter.widget-view+json": {
       "model_id": "ac87fc40ac3848d2a2995f9f22ef6668",
       "version_major": 2,
       "version_minor": 0
      },
      "text/plain": [
       "  0%|          | 0/49 [00:00<?, ?it/s]"
      ]
     },
     "metadata": {},
     "output_type": "display_data"
    },
    {
     "name": "stdout",
     "output_type": "stream",
     "text": [
      "----现在处理：uws8.mat，共49段----\n"
     ]
    },
    {
     "data": {
      "application/vnd.jupyter.widget-view+json": {
       "model_id": "344b15d5d58d48b187c47ac77a573bd6",
       "version_major": 2,
       "version_minor": 0
      },
      "text/plain": [
       "  0%|          | 0/49 [00:00<?, ?it/s]"
      ]
     },
     "metadata": {},
     "output_type": "display_data"
    },
    {
     "name": "stdout",
     "output_type": "stream",
     "text": [
      "----现在处理：uws9.mat，共48段----\n"
     ]
    },
    {
     "data": {
      "application/vnd.jupyter.widget-view+json": {
       "model_id": "fd7aa200626a49fe81e3bf950c0dfd59",
       "version_major": 2,
       "version_minor": 0
      },
      "text/plain": [
       "  0%|          | 0/48 [00:00<?, ?it/s]"
      ]
     },
     "metadata": {},
     "output_type": "display_data"
    },
    {
     "name": "stdout",
     "output_type": "stream",
     "text": [
      "../data/eegmap_direct\\rest\\hc\\hc1.mat.pt\n",
      "torch.Size([48, 2400, 9, 11])\n"
     ]
    },
    {
     "data": {
      "image/png": "[encoded data removed]",
      "text/plain": [
       "<Figure size 1440x720 with 11 Axes>"
      ]
     },
     "metadata": {
      "needs_background": "light"
     },
     "output_type": "display_data"
    }
   ],
   "source": [
    "# origin eeg data # 原始eeg数据\n",
    "root_dir = \"../data/eegdata_mat\"\n",
    "# ====distribution index matrix # 电极分布矩阵\n",
    "electric_nodes = [\n",
    "    'Fp1','Fp2','F3','F4','C3','C4','P3','P4','O1','O2','F7','F8','T7','T8','P7','P8','Fz','Cz','Pz','FC1','FC2',\n",
    "    'CP1','CP2','FC5','FC6','CP5','CP6','FT9','FT10','F1','F2','C1','C2','P1','P2','AF3','AF4','FC3','FC4','CP3',\n",
    "    'CP4','PO3','PO4','F5','F6','C5','C6','P5','P6','AF7','AF8','FT7','FT8','TP7','TP8','PO7','PO8','Fpz','CPz'\n",
    "]\n",
    "matrix_index = np.array([\n",
    "    [0,0,2,2,4,4,6,6,8,8,2,2,4,4,6,6,2,4,6,3,3,5,5,3,3,5,5,3,3,2,2,4,4,6,6,1,1,3,3,5,5,7,7,2,2,4,4,6,6,1,1,3,3,5,5,7,7,0,5],#  x坐标\n",
    "    [4,6,3,7,3,7,3,7,4,6,1,9,1,9,1,9,5,5,5,4,6,4,6,2,8,2,8,0,10,4,6,4,6,4,6,4,6,3,7,3,7,4,6,2,8,2,8,2,8,3,7,1,9,1,9,3,7,5,5]#  y坐标\n",
    "])\n",
    "# ====脑电地形图可视化\n",
    "draw_eegmap(electric_nodes, matrix_index)\n",
    "# import sys\n",
    "# sys.exit()\n",
    "# ====构建脑电地形图时间序列\n",
    "# set GPU usage # 使用GPU\n",
    "device = torch.device(\"cuda\" if torch.cuda.is_available() else \"cpu\")\n",
    "# exper_list = ['conditionA','conditionB','conditionC']\n",
    "exper_list = ['rest']\n",
    "condi_list = ['hc','mcs','uws']\n",
    "# -----------------generate single dir----------------------------\n",
    "# # experimental dir: rest, conditionA, conditionB, conditionC\n",
    "# exper_dir = \"rest_groups\"\n",
    "# # condition_dir: hc, mcs, uws\n",
    "# condi_dir = \"hc\"\n",
    "# dataset = MyData(root_dir, exper_dir, condi_dir) # eg.conditionA/hc\n",
    "# generate_eegmap(dataset, matrix_index, exper_dir, condi_dir, device)\n",
    "\n",
    "# # --------------------generate all dirs------------------------------\n",
    "for exper_dir in exper_list:\n",
    "    for condi_dir in condi_list:\n",
    "        dataset = MyData(root_dir, exper_dir, condi_dir) # eg.conditionA\\hc\n",
    "        generate_eegmap(dataset, matrix_index, exper_dir, condi_dir, device)\n",
    "\n",
    "# -----------------generate all 59×1 dirs-----------------------------\n",
    "# for exper_dir in exper_list:\n",
    "#     for condi_dir in condi_list:\n",
    "#         dataset = MyData(root_dir, exper_dir, condi_dir) # eg.conditionA\\hc\n",
    "#         generate_eegstrip(dataset, matrix_index, exper_dir, condi_dir, device)\n",
    "        \n",
    "# ====查看脑电地形图时间序列\n",
    "root_dir = \"../data/eegmap_direct\"\n",
    "exper_dir = \"rest\"\n",
    "condi_dir = \"hc\"\n",
    "dataset = MyData(root_dir, exper_dir, condi_dir)\n",
    "person = 0\n",
    "filename = os.path.join(dataset.path, dataset.file_path[person])\n",
    "data_map = torch.load(filename).cpu()\n",
    "print(filename)\n",
    "print(data_map.size())\n",
    "\n",
    "# 选择前十个时间点\n",
    "begin = 100\n",
    "end = begin+10\n",
    "# 从 data_map 中提取数据\n",
    "data_slice = data_map[0, begin:end, :, :]\n",
    "\n",
    "# 创建子图\n",
    "fig, axes = plt.subplots(2, 5, figsize=(20, 10))\n",
    "\n",
    "# 循环绘制二维图\n",
    "for i in range(end-begin):\n",
    "    ax = axes[i // 5, i % 5]\n",
    "    im = ax.imshow(data_slice[i], cmap='viridis', interpolation='nearest')\n",
    "    ax.set_title('Time Point {}'.format(i))\n",
    "    ax.set_xlabel('X')\n",
    "    ax.set_ylabel('Y')\n",
    "    ax.set_xticks([])\n",
    "    ax.set_yticks([])\n",
    "    ax.grid(False)\n",
    "\n",
    "# 调整子图布局\n",
    "plt.tight_layout()\n",
    "\n",
    "# 添加统一的颜色条\n",
    "cmap = cm.viridis\n",
    "cbar_ax = fig.add_axes([0.1, 0.05, 0.8, 0.02])  # 调整颜色条位置\n",
    "norm = Normalize(vmin=np.nanmin(data_slice), vmax=np.nanmax(data_slice))\n",
    "cbar = ColorbarBase(cbar_ax, cmap=cmap, orientation='horizontal')\n",
    "cbar.set_label('Value')\n",
    "\n",
    "plt.show()\n",
    "# for person in tqdm(range(len(dataset))):\n",
    "#     filename = os.path.join(dataset.path, dataset.file_path[person])\n",
    "#     data_map = torch.load(filename)\n",
    "#     print(filename)\n",
    "#     print(data_map.size())"
   ]
  },
  {
   "cell_type": "markdown",
   "id": "d45767d2",
   "metadata": {},
   "source": [
    "## 2.1.2 每类所有被试的[分段数×2400×9×11]->[该类被试总分段数×2400×9×11]"
   ]
  },
  {
   "cell_type": "code",
   "execution_count": 2,
   "id": "e1c944ab",
   "metadata": {},
   "outputs": [
    {
     "name": "stdout",
     "output_type": "stream",
     "text": [
      "../data/eegmap_direct\\rest59\\hc\\hc1.mat.pt\n",
      "torch.Size([48, 2400, 59, 1])\n",
      "tensor([[ 14.0871],\n",
      "        [ 13.8901],\n",
      "        [ 11.4281],\n",
      "        [  8.8792],\n",
      "        [  1.9434],\n",
      "        [ -0.9906],\n",
      "        [-22.5272],\n",
      "        [-17.6982],\n",
      "        [-18.6872],\n",
      "        [-12.0070],\n",
      "        [ 14.8673],\n",
      "        [ 11.8794],\n",
      "        [  4.4899],\n",
      "        [  7.1707],\n",
      "        [ -9.0969],\n",
      "        [ -2.6523],\n",
      "        [  7.5805],\n",
      "        [ -1.5443],\n",
      "        [-17.2902],\n",
      "        [  4.7990],\n",
      "        [  0.4329],\n",
      "        [ -6.9784],\n",
      "        [ -8.5096],\n",
      "        [  7.8609],\n",
      "        [  6.5713],\n",
      "        [ -5.1416],\n",
      "        [ -5.3652],\n",
      "        [  4.8031],\n",
      "        [ 12.7885],\n",
      "        [  6.1815],\n",
      "        [  6.7528],\n",
      "        [ -0.3309],\n",
      "        [  4.6091],\n",
      "        [-22.5595],\n",
      "        [ -6.7737],\n",
      "        [ 12.5995],\n",
      "        [ 13.3827],\n",
      "        [  5.6269],\n",
      "        [  1.4783],\n",
      "        [ -6.1357],\n",
      "        [ -6.8827],\n",
      "        [-23.5342],\n",
      "        [-13.7872],\n",
      "        [ 12.2143],\n",
      "        [ 13.6159],\n",
      "        [  2.4798],\n",
      "        [  3.7980],\n",
      "        [-16.0308],\n",
      "        [-14.4894],\n",
      "        [ 14.1550],\n",
      "        [ 14.3787],\n",
      "        [  9.9660],\n",
      "        [  8.5168],\n",
      "        [ -1.6096],\n",
      "        [ -0.8674],\n",
      "        [-18.4391],\n",
      "        [-13.3094],\n",
      "        [ 14.0981],\n",
      "        [ -8.4667]])\n"
     ]
    }
   ],
   "source": [
    "# ====查看脑电地形图时间序列\n",
    "root_dir = \"../data/eegmap_direct\"\n",
    "exper_dir = \"rest59\"\n",
    "condi_dir = \"hc\"\n",
    "dataset = MyData(root_dir, exper_dir, condi_dir)\n",
    "person = 0\n",
    "filename = os.path.join(dataset.path, dataset.file_path[person])\n",
    "data_map = torch.load(filename).cpu()\n",
    "print(filename)\n",
    "print(data_map.size())\n",
    "\n",
    "# 选择前十个时间点\n",
    "begin = 100\n",
    "end = begin+10\n",
    "# 从 data_map 中提取数据\n",
    "data_slice = data_map[0, 109, :, :]\n",
    "print(data_slice)"
   ]
  },
  {
   "cell_type": "code",
   "execution_count": 3,
   "id": "a048b157",
   "metadata": {
    "scrolled": false
   },
   "outputs": [
    {
     "data": {
      "application/vnd.jupyter.widget-view+json": {
       "model_id": "7752527824164a7fba621b37c838ae13",
       "version_major": 2,
       "version_minor": 0
      },
      "text/plain": [
       "  0%|          | 0/18 [00:00<?, ?it/s]"
      ]
     },
     "metadata": {},
     "output_type": "display_data"
    },
    {
     "name": "stdout",
     "output_type": "stream",
     "text": [
      "../data/eegmap_direct_new\\rest\\hc\\hc1.mat.pt\n",
      "torch.Size([48, 2400, 9, 11])\n",
      "../data/eegmap_direct_new\\rest\\hc\\hc10.mat.pt\n",
      "torch.Size([63, 2400, 9, 11])\n",
      "../data/eegmap_direct_new\\rest\\hc\\hc11.mat.pt\n",
      "torch.Size([40, 2400, 9, 11])\n",
      "../data/eegmap_direct_new\\rest\\hc\\hc12.mat.pt\n",
      "torch.Size([45, 2400, 9, 11])\n",
      "../data/eegmap_direct_new\\rest\\hc\\hc13.mat.pt\n",
      "torch.Size([40, 2400, 9, 11])\n",
      "../data/eegmap_direct_new\\rest\\hc\\hc14.mat.pt\n",
      "torch.Size([36, 2400, 9, 11])\n",
      "../data/eegmap_direct_new\\rest\\hc\\hc15.mat.pt\n",
      "torch.Size([49, 2400, 9, 11])\n",
      "../data/eegmap_direct_new\\rest\\hc\\hc16.mat.pt\n",
      "torch.Size([46, 2400, 9, 11])\n",
      "../data/eegmap_direct_new\\rest\\hc\\hc17.mat.pt\n",
      "torch.Size([50, 2400, 9, 11])\n",
      "../data/eegmap_direct_new\\rest\\hc\\hc18.mat.pt\n",
      "torch.Size([46, 2400, 9, 11])\n",
      "../data/eegmap_direct_new\\rest\\hc\\hc21.mat.pt\n",
      "torch.Size([49, 2400, 9, 11])\n",
      "../data/eegmap_direct_new\\rest\\hc\\hc22.mat.pt\n",
      "torch.Size([48, 2400, 9, 11])\n",
      "../data/eegmap_direct_new\\rest\\hc\\hc3.mat.pt\n",
      "torch.Size([48, 2400, 9, 11])\n",
      "../data/eegmap_direct_new\\rest\\hc\\hc5.mat.pt\n",
      "torch.Size([49, 2400, 9, 11])\n",
      "../data/eegmap_direct_new\\rest\\hc\\hc6.mat.pt\n",
      "torch.Size([47, 2400, 9, 11])\n",
      "../data/eegmap_direct_new\\rest\\hc\\hc7.mat.pt\n",
      "torch.Size([47, 2400, 9, 11])\n",
      "../data/eegmap_direct_new\\rest\\hc\\hc8.mat.pt\n",
      "torch.Size([52, 2400, 9, 11])\n",
      "../data/eegmap_direct_new\\rest\\hc\\hc9.mat.pt\n",
      "torch.Size([49, 2400, 9, 11])\n",
      "852\n"
     ]
    },
    {
     "data": {
      "application/vnd.jupyter.widget-view+json": {
       "model_id": "1dab44943e0a45a0870f68a95652d5f6",
       "version_major": 2,
       "version_minor": 0
      },
      "text/plain": [
       "  0%|          | 0/22 [00:00<?, ?it/s]"
      ]
     },
     "metadata": {},
     "output_type": "display_data"
    },
    {
     "name": "stdout",
     "output_type": "stream",
     "text": [
      "../data/eegmap_direct_new\\rest\\mcs\\mcs10.mat.pt\n",
      "torch.Size([41, 2400, 9, 11])\n",
      "../data/eegmap_direct_new\\rest\\mcs\\mcs11.mat.pt\n",
      "torch.Size([52, 2400, 9, 11])\n",
      "../data/eegmap_direct_new\\rest\\mcs\\mcs13.mat.pt\n",
      "torch.Size([48, 2400, 9, 11])\n",
      "../data/eegmap_direct_new\\rest\\mcs\\mcs14.mat.pt\n",
      "torch.Size([49, 2400, 9, 11])\n",
      "../data/eegmap_direct_new\\rest\\mcs\\mcs15.mat.pt\n",
      "torch.Size([51, 2400, 9, 11])\n",
      "../data/eegmap_direct_new\\rest\\mcs\\mcs16.mat.pt\n",
      "torch.Size([50, 2400, 9, 11])\n",
      "../data/eegmap_direct_new\\rest\\mcs\\mcs17.mat.pt\n",
      "torch.Size([50, 2400, 9, 11])\n",
      "../data/eegmap_direct_new\\rest\\mcs\\mcs18.mat.pt\n",
      "torch.Size([48, 2400, 9, 11])\n",
      "../data/eegmap_direct_new\\rest\\mcs\\mcs19.mat.pt\n",
      "torch.Size([44, 2400, 9, 11])\n",
      "../data/eegmap_direct_new\\rest\\mcs\\mcs2.mat.pt\n",
      "torch.Size([45, 2400, 9, 11])\n",
      "../data/eegmap_direct_new\\rest\\mcs\\mcs20.mat.pt\n",
      "torch.Size([47, 2400, 9, 11])\n",
      "../data/eegmap_direct_new\\rest\\mcs\\mcs21.mat.pt\n",
      "torch.Size([40, 2400, 9, 11])\n",
      "../data/eegmap_direct_new\\rest\\mcs\\mcs22.mat.pt\n",
      "torch.Size([42, 2400, 9, 11])\n",
      "../data/eegmap_direct_new\\rest\\mcs\\mcs23.mat.pt\n",
      "torch.Size([52, 2400, 9, 11])\n",
      "../data/eegmap_direct_new\\rest\\mcs\\mcs24.mat.pt\n",
      "torch.Size([51, 2400, 9, 11])\n",
      "../data/eegmap_direct_new\\rest\\mcs\\mcs3.mat.pt\n",
      "torch.Size([39, 2400, 9, 11])\n",
      "../data/eegmap_direct_new\\rest\\mcs\\mcs4.mat.pt\n",
      "torch.Size([61, 2400, 9, 11])\n",
      "../data/eegmap_direct_new\\rest\\mcs\\mcs5.mat.pt\n",
      "torch.Size([50, 2400, 9, 11])\n",
      "../data/eegmap_direct_new\\rest\\mcs\\mcs6.mat.pt\n",
      "torch.Size([37, 2400, 9, 11])\n",
      "../data/eegmap_direct_new\\rest\\mcs\\mcs7.mat.pt\n",
      "torch.Size([59, 2400, 9, 11])\n",
      "../data/eegmap_direct_new\\rest\\mcs\\mcs8.mat.pt\n",
      "torch.Size([47, 2400, 9, 11])\n",
      "../data/eegmap_direct_new\\rest\\mcs\\mcs9.mat.pt\n",
      "torch.Size([48, 2400, 9, 11])\n",
      "1051\n"
     ]
    },
    {
     "data": {
      "application/vnd.jupyter.widget-view+json": {
       "model_id": "8f802ec184e64e6b8639bf42814517d6",
       "version_major": 2,
       "version_minor": 0
      },
      "text/plain": [
       "  0%|          | 0/18 [00:00<?, ?it/s]"
      ]
     },
     "metadata": {},
     "output_type": "display_data"
    },
    {
     "name": "stdout",
     "output_type": "stream",
     "text": [
      "../data/eegmap_direct_new\\rest\\uws\\uws1.mat.pt\n",
      "torch.Size([51, 2400, 9, 11])\n",
      "../data/eegmap_direct_new\\rest\\uws\\uws10.mat.pt\n",
      "torch.Size([64, 2400, 9, 11])\n",
      "../data/eegmap_direct_new\\rest\\uws\\uws11.mat.pt\n",
      "torch.Size([49, 2400, 9, 11])\n",
      "../data/eegmap_direct_new\\rest\\uws\\uws13.mat.pt\n",
      "torch.Size([45, 2400, 9, 11])\n",
      "../data/eegmap_direct_new\\rest\\uws\\uws16.mat.pt\n",
      "torch.Size([32, 2400, 9, 11])\n",
      "../data/eegmap_direct_new\\rest\\uws\\uws17.mat.pt\n",
      "torch.Size([48, 2400, 9, 11])\n",
      "../data/eegmap_direct_new\\rest\\uws\\uws2.mat.pt\n",
      "torch.Size([48, 2400, 9, 11])\n",
      "../data/eegmap_direct_new\\rest\\uws\\uws21.mat.pt\n",
      "torch.Size([36, 2400, 9, 11])\n",
      "../data/eegmap_direct_new\\rest\\uws\\uws22.mat.pt\n",
      "torch.Size([46, 2400, 9, 11])\n",
      "../data/eegmap_direct_new\\rest\\uws\\uws23.mat.pt\n",
      "torch.Size([30, 2400, 9, 11])\n",
      "../data/eegmap_direct_new\\rest\\uws\\uws24.mat.pt\n",
      "torch.Size([60, 2400, 9, 11])\n",
      "../data/eegmap_direct_new\\rest\\uws\\uws3.mat.pt\n",
      "torch.Size([52, 2400, 9, 11])\n",
      "../data/eegmap_direct_new\\rest\\uws\\uws4.mat.pt\n",
      "torch.Size([65, 2400, 9, 11])\n",
      "../data/eegmap_direct_new\\rest\\uws\\uws5.mat.pt\n",
      "torch.Size([52, 2400, 9, 11])\n",
      "../data/eegmap_direct_new\\rest\\uws\\uws6.mat.pt\n",
      "torch.Size([48, 2400, 9, 11])\n",
      "../data/eegmap_direct_new\\rest\\uws\\uws7.mat.pt\n",
      "torch.Size([49, 2400, 9, 11])\n",
      "../data/eegmap_direct_new\\rest\\uws\\uws8.mat.pt\n",
      "torch.Size([49, 2400, 9, 11])\n",
      "../data/eegmap_direct_new\\rest\\uws\\uws9.mat.pt\n",
      "torch.Size([48, 2400, 9, 11])\n",
      "872\n"
     ]
    }
   ],
   "source": [
    "root_dir = \"../data/eegmap_direct_new\"\n",
    "# single process\n",
    "# exper_dir = \"conditionB\"\n",
    "# condi_dir = \"hc\"\n",
    "# group process\n",
    "# exper_list = ['conditionA','conditionB','conditionC']\n",
    "exper_list = ['rest']\n",
    "condi_list = ['hc','mcs','uws']\n",
    "for exper_dir in exper_list:\n",
    "    for condi_dir in condi_list:\n",
    "        generate_eegmap_chunks(root_dir, exper_dir, condi_dir)"
   ]
  },
  {
   "cell_type": "markdown",
   "id": "bb985722",
   "metadata": {},
   "source": [
    "# 3. 准备数据集"
   ]
  },
  {
   "cell_type": "markdown",
   "id": "7ef56912",
   "metadata": {},
   "source": [
    "## 3.1 划分数据集-交叉验证"
   ]
  },
  {
   "cell_type": "code",
   "execution_count": 4,
   "id": "0cc10b87",
   "metadata": {},
   "outputs": [
    {
     "name": "stdout",
     "output_type": "stream",
     "text": [
      "========正在划分rest========\n",
      "rest实验下共有EEG数据段：\n",
      "HC: 852，MCS: 1051，UWS: 872\n"
     ]
    },
    {
     "data": {
      "application/vnd.jupyter.widget-view+json": {
       "model_id": "f4b909c212bc41d49b7fcf5a24f8b8ce",
       "version_major": 2,
       "version_minor": 0
      },
      "text/plain": [
       "  0%|          | 0/5 [00:00<?, ?it/s]"
      ]
     },
     "metadata": {},
     "output_type": "display_data"
    },
    {
     "name": "stdout",
     "output_type": "stream",
     "text": [
      "训练集中每折有EEG数据段：\n",
      "HC: 682，MCS: 841，UWS: 698\n",
      "验证集中每折有EEG数据段：\n",
      "HC: 170，MCS: 210，UWS: 174\n"
     ]
    }
   ],
   "source": [
    "# 定义函数用于保存数据集\n",
    "def save_dataset(data, exper_dir, subset, mode, fold):\n",
    "    torch.save(data, f\"../data/eegmap_split_new/{exper_dir}/{mode}/{subset}/{exper_dir}_{subset}_{mode}_{fold}.pt\")\n",
    "\n",
    "# test_percentage = 0 # 设置测试集比例\n",
    "fold_num = 5 # 设置交叉验证折数\n",
    "# 选择被试种类\n",
    "for exper_dir in exper_list:\n",
    "    print(f\"========正在划分{exper_dir}========\")\n",
    "    hc_path = f\"../data/eegmap_chunks_new/{exper_dir}/hc/{exper_dir}_hc.pt\"\n",
    "    mcs_path = f\"../data/eegmap_chunks_new/{exper_dir}/mcs/{exper_dir}_mcs.pt\"\n",
    "    uws_path = f\"../data/eegmap_chunks_new/{exper_dir}/uws/{exper_dir}_uws.pt\"\n",
    "    hc = torch.load(hc_path)\n",
    "    mcs = torch.load(mcs_path)\n",
    "    uws = torch.load(uws_path)\n",
    "    print(f\"{exper_dir}实验下共有EEG数据段：\")\n",
    "    print(f\"HC: {hc.size(0)}，MCS: {mcs.size(0)}，UWS: {uws.size(0)}\")\n",
    "    hc_all = hc.size(0)\n",
    "    mcs_all = mcs.size(0)\n",
    "    uws_all = uws.size(0)\n",
    "    # 生成随机种子\n",
    "    torch.manual_seed(32)\n",
    "#     # ====1. test dataset，划分测试集\n",
    "#     # 生成随机种子\n",
    "#     torch.manual_seed(32)\n",
    "#     # 生成随机索引\n",
    "#     hc_indices = torch.randperm(len(hc))\n",
    "#     mcs_indices = torch.randperm(len(mcs))\n",
    "#     uws_indices = torch.randperm(len(uws))\n",
    "#     # hc\n",
    "#     test_end = int(test_percentage * len(hc))\n",
    "#     test_hc_indices = hc_indices[:test_end]\n",
    "#     test_hc = hc[test_hc_indices]\n",
    "#     torch.save(test_hc, f\"../data/eegmap_split/{exper_dir}/test/hc/{exper_dir}_hc_test.pt\")\n",
    "#     hc = hc[hc_indices[test_end:]]\n",
    "#     # mcs\n",
    "#     test_end = int(test_percentage * len(mcs))\n",
    "#     test_mcs_indices = mcs_indices[:test_end]\n",
    "#     test_mcs = mcs[test_mcs_indices]\n",
    "#     torch.save(test_mcs, f\"../data/eegmap_split/{exper_dir}/test/mcs/{exper_dir}_mcs_test.pt\")\n",
    "#     mcs = mcs[mcs_indices[test_end:]]\n",
    "#     #uws\n",
    "#     test_end = int(test_percentage * len(uws))\n",
    "#     test_uws_indices = uws_indices[:test_end]\n",
    "#     test_uws = uws[test_uws_indices]\n",
    "#     torch.save(test_uws, f\"../data/eegmap_split/{exper_dir}/test/uws/{exper_dir}_uws_test.pt\")\n",
    "#     uws = uws[uws_indices[test_end:]]\n",
    "#     print(f\"测试集中有EEG数据段：\")\n",
    "#     print(f\"HC: {hc_all - hc.size(0)}，MCS: {mcs_all - mcs.size(0)}，UWS: {uws_all - uws.size(0)}\")\n",
    "#     # 清理内存\n",
    "#     del hc_indices, mcs_indices, uws_indices, test_hc_indices, test_mcs_indices, test_uws_indices\n",
    "#     del test_hc, test_mcs, test_uws\n",
    "#     gc.collect()\n",
    "#     torch.cuda.empty_cache()\n",
    "\n",
    "    # ====2. train dataset，划分训练集和验证集\n",
    "    # 生成随机索引\n",
    "    hc_indices = torch.randperm(len(hc))\n",
    "    mcs_indices = torch.randperm(len(mcs))\n",
    "    uws_indices = torch.randperm(len(uws))\n",
    "    # 划分数据集并保存\n",
    "    for fold in tqdm(range(fold_num)):\n",
    "        # 划分 hc 数据集\n",
    "        len_hc = len(hc)\n",
    "        val_size = len_hc // fold_num  # 每一折的验证集大小\n",
    "        val_start = fold * val_size  # 验证集起始索引\n",
    "        val_end = min((fold + 1) * val_size, len_hc)  # 验证集结束索引\n",
    "        train_hc_indices = torch.cat([hc_indices[:val_start], hc_indices[val_end:]])\n",
    "        val_hc_indices = hc_indices[val_start:val_end]\n",
    "        train_hc = hc[train_hc_indices]\n",
    "        val_hc = hc[val_hc_indices]\n",
    "        save_dataset(train_hc, exper_dir, 'hc', 'train', fold)\n",
    "        save_dataset(val_hc, exper_dir, 'hc', 'test', fold)\n",
    "        hc_val = val_size\n",
    "        hc_train = len_hc - val_size\n",
    "        # 划分 mcs 数据集\n",
    "        len_mcs = len(mcs)\n",
    "        val_size = len_mcs // fold_num\n",
    "        val_start = fold * val_size\n",
    "        val_end = min((fold + 1) * val_size, len_mcs)\n",
    "        train_mcs_indices = torch.cat([mcs_indices[:val_start], mcs_indices[val_end:]])\n",
    "        val_mcs_indices = mcs_indices[val_start:val_end]\n",
    "        train_mcs = mcs[train_mcs_indices]\n",
    "        val_mcs = mcs[val_mcs_indices]\n",
    "        save_dataset(train_mcs, exper_dir, 'mcs', 'train', fold)\n",
    "        save_dataset(val_mcs, exper_dir, 'mcs', 'test', fold)\n",
    "        mcs_val = val_size\n",
    "        mcs_train = len_mcs - val_size\n",
    "        # 划分 uws 数据集\n",
    "        len_uws = len(uws)\n",
    "        val_size = len_uws // fold_num\n",
    "        val_start = fold * val_size\n",
    "        val_end = min((fold + 1) * val_size, len_uws)\n",
    "        train_uws_indices = torch.cat([uws_indices[:val_start], uws_indices[val_end:]])\n",
    "        val_uws_indices = uws_indices[val_start:val_end]\n",
    "        train_uws = uws[train_uws_indices]\n",
    "        val_uws = uws[val_uws_indices]\n",
    "        save_dataset(train_uws, exper_dir, 'uws', 'train', fold)\n",
    "        save_dataset(val_uws, exper_dir, 'uws', 'test', fold)\n",
    "        uws_val = val_size\n",
    "        uws_train = len_uws - val_size\n",
    "        if fold == 0:\n",
    "            print(f\"训练集中每折有EEG数据段：\")\n",
    "            print(f\"HC: {hc_train}，MCS: {mcs_train}，UWS: {uws_train}\")\n",
    "            print(f\"验证集中每折有EEG数据段：\")\n",
    "            print(f\"HC: {hc_val}，MCS: {mcs_val}，UWS: {uws_val}\")\n",
    "        # 清理内存\n",
    "        del train_hc_indices, train_mcs_indices, train_uws_indices,\n",
    "        del val_hc_indices, val_mcs_indices, val_uws_indices\n",
    "        del train_hc, train_mcs, train_uws, val_hc, val_mcs, val_uws\n",
    "        gc.collect()\n",
    "        torch.cuda.empty_cache()\n",
    "    \n",
    "    # 清理内存\n",
    "    del hc_indices, mcs_indices, uws_indices\n",
    "    del hc, mcs, uws\n",
    "    gc.collect()\n",
    "    torch.cuda.empty_cache()"
   ]
  },
  {
   "cell_type": "markdown",
   "id": "92fa16a7",
   "metadata": {},
   "source": [
    "## 3.2 为数据集打标签"
   ]
  },
  {
   "cell_type": "code",
   "execution_count": 26,
   "id": "f10e1867",
   "metadata": {},
   "outputs": [
    {
     "name": "stdout",
     "output_type": "stream",
     "text": [
      "True\n"
     ]
    }
   ],
   "source": [
    "a = \"1\"\n",
    "print(str.isdigit(a))"
   ]
  },
  {
   "cell_type": "code",
   "execution_count": null,
   "id": "fa8d3963",
   "metadata": {},
   "outputs": [
    {
     "data": {
      "application/vnd.jupyter.widget-view+json": {
       "model_id": "013531452cb046109b1d0e10524729a9",
       "version_major": 2,
       "version_minor": 0
      },
      "text/plain": [
       "  0%|          | 0/5 [00:00<?, ?it/s]"
      ]
     },
     "metadata": {},
     "output_type": "display_data"
    },
    {
     "name": "stdout",
     "output_type": "stream",
     "text": [
      "被试类别：hc, 标签：0.0\n"
     ]
    },
    {
     "data": {
      "application/vnd.jupyter.widget-view+json": {
       "model_id": "7f2c503a5b4b4129a2fd051992a242c7",
       "version_major": 2,
       "version_minor": 0
      },
      "text/plain": [
       "  0%|          | 0/5 [00:00<?, ?it/s]"
      ]
     },
     "metadata": {},
     "output_type": "display_data"
    },
    {
     "name": "stdout",
     "output_type": "stream",
     "text": [
      "被试类别：mcs, 标签：1.0\n"
     ]
    },
    {
     "data": {
      "application/vnd.jupyter.widget-view+json": {
       "model_id": "c1e8b3e18cb6438b87dfb4bad366eacd",
       "version_major": 2,
       "version_minor": 0
      },
      "text/plain": [
       "  0%|          | 0/5 [00:00<?, ?it/s]"
      ]
     },
     "metadata": {},
     "output_type": "display_data"
    },
    {
     "name": "stdout",
     "output_type": "stream",
     "text": [
      "被试类别：uws, 标签：1.0\n"
     ]
    },
    {
     "data": {
      "application/vnd.jupyter.widget-view+json": {
       "model_id": "a4628b0b66b9465c8f2c3a5969679a7f",
       "version_major": 2,
       "version_minor": 0
      },
      "text/plain": [
       "  0%|          | 0/5 [00:00<?, ?it/s]"
      ]
     },
     "metadata": {},
     "output_type": "display_data"
    },
    {
     "data": {
      "application/vnd.jupyter.widget-view+json": {
       "model_id": "31dc92045bca4ff3a2a433222d4bd03e",
       "version_major": 2,
       "version_minor": 0
      },
      "text/plain": [
       "  0%|          | 0/5 [00:00<?, ?it/s]"
      ]
     },
     "metadata": {},
     "output_type": "display_data"
    },
    {
     "data": {
      "application/vnd.jupyter.widget-view+json": {
       "model_id": "01ca8572d52147e2b6fc91658bee5ff3",
       "version_major": 2,
       "version_minor": 0
      },
      "text/plain": [
       "  0%|          | 0/5 [00:00<?, ?it/s]"
      ]
     },
     "metadata": {},
     "output_type": "display_data"
    },
    {
     "data": {
      "application/vnd.jupyter.widget-view+json": {
       "model_id": "e0e2e2d174dc4b01a7bdf8c269beea56",
       "version_major": 2,
       "version_minor": 0
      },
      "text/plain": [
       "  0%|          | 0/10 [00:00<?, ?it/s]"
      ]
     },
     "metadata": {},
     "output_type": "display_data"
    },
    {
     "name": "stdout",
     "output_type": "stream",
     "text": [
      "被试类别：hc, 标签：0.0\n"
     ]
    },
    {
     "data": {
      "application/vnd.jupyter.widget-view+json": {
       "model_id": "de00ca4ebd7047bd94abe1e0eeeed88c",
       "version_major": 2,
       "version_minor": 0
      },
      "text/plain": [
       "  0%|          | 0/10 [00:00<?, ?it/s]"
      ]
     },
     "metadata": {},
     "output_type": "display_data"
    },
    {
     "name": "stdout",
     "output_type": "stream",
     "text": [
      "被试类别：mcs, 标签：0.0\n"
     ]
    }
   ],
   "source": [
    "classification_list = ['HC/DOC', 'MCS/UWS']\n",
    "# classify = classification_list[0]\n",
    "mode_list = ['train', 'test']\n",
    "exper_list = ['rest']\n",
    "condi_list = ['hc','mcs','uws']\n",
    "# 生成随机种子\n",
    "torch.manual_seed(32)\n",
    "for classify in classification_list:\n",
    "    hc_flag = 0\n",
    "    mcs_flag = 0\n",
    "    uws_flag = 0\n",
    "    for exper_dir in exper_list:\n",
    "        root_dir = f\"../data/eegmap_split_new/{exper_dir}\"\n",
    "        for mode in mode_list:\n",
    "            condi_dir = \"hc\"\n",
    "            dataset = MyData(root_dir, mode, condi_dir) # eg.conditionA/hc\n",
    "            for person in tqdm(range(len(dataset))):\n",
    "                # load filename\n",
    "                filename = os.path.join(dataset.path, dataset.file_path[person])\n",
    "                data_map = torch.load(filename)\n",
    "                name_without_extension = os.path.splitext(os.path.basename(filename))[0]\n",
    "                last_part = name_without_extension.split('_')[-1]\n",
    "                if str.isdigit(last_part):\n",
    "                    # set label\n",
    "                    label = torch.zeros(data_map.size(0)) # label = 0\n",
    "                    if classify == 'HC/DOC':\n",
    "                        save_path = f\"../data/eegmap_split_new/{exper_dir}/{mode}/{condi_dir}/{name_without_extension}_hc_doc_label.pt\"\n",
    "                    elif classify == 'MCS/UWS':\n",
    "                        save_path = f\"../data/eegmap_split_new/{exper_dir}/{mode}/{condi_dir}/{name_without_extension}_mcs_uws_label.pt\"\n",
    "                    torch.save(label, save_path)\n",
    "                    # print label\n",
    "                    if hc_flag == 0:\n",
    "                        print(f\"被试类别：{condi_dir}, 标签：{label[0]}\")\n",
    "                        hc_flag = hc_flag + 1\n",
    "                    del label,data_map,filename\n",
    "                    gc.collect()\n",
    "                    torch.cuda.empty_cache()\n",
    "            condi_dir = \"mcs\"\n",
    "            dataset = MyData(root_dir, mode, condi_dir) # eg.conditionA/hc\n",
    "            for person in tqdm(range(len(dataset))):\n",
    "                filename = os.path.join(dataset.path, dataset.file_path[person])\n",
    "                data_map = torch.load(filename)\n",
    "                name_without_extension = os.path.splitext(os.path.basename(filename))[0]\n",
    "                last_part = name_without_extension.split('_')[-1]\n",
    "                if str.isdigit(last_part):\n",
    "                    if classify == 'HC/DOC':\n",
    "                        label = torch.ones(data_map.size(0)) # label = 1, for HC/DOC\n",
    "                        save_path = f\"../data/eegmap_split_new/{exper_dir}/{mode}/{condi_dir}/{name_without_extension}_hc_doc_label.pt\"\n",
    "                    elif classify == 'MCS/UWS':\n",
    "                        label = torch.zeros(data_map.size(0)) # label = 0, for MCS/UWS\n",
    "                        save_path = f\"../data/eegmap_split_new/{exper_dir}/{mode}/{condi_dir}/{name_without_extension}_mcs_uws_label.pt\"\n",
    "                    torch.save(label, save_path)\n",
    "                    if mcs_flag == 0:\n",
    "                        print(f\"被试类别：{condi_dir}, 标签：{label[0]}\")\n",
    "                        mcs_flag = mcs_flag + 1\n",
    "                    del label,data_map,filename\n",
    "                    gc.collect()\n",
    "                    torch.cuda.empty_cache()\n",
    "            condi_dir = \"uws\"\n",
    "            dataset = MyData(root_dir, mode, condi_dir) # eg.conditionA/hc\n",
    "            for person in tqdm(range(len(dataset))):\n",
    "                filename = os.path.join(dataset.path, dataset.file_path[person])\n",
    "                data_map = torch.load(filename)\n",
    "                name_without_extension = os.path.splitext(os.path.basename(filename))[0]\n",
    "                last_part = name_without_extension.split('_')[-1]\n",
    "                if str.isdigit(last_part):\n",
    "                    label = torch.ones(data_map.size(0)) # label = 1\n",
    "                    if classify == 'HC/DOC':\n",
    "                        save_path = f\"../data/eegmap_split_new/{exper_dir}/{mode}/{condi_dir}/{name_without_extension}_hc_doc_label.pt\"\n",
    "                    elif classify == 'MCS/UWS':\n",
    "                        save_path = f\"../data/eegmap_split_new/{exper_dir}/{mode}/{condi_dir}/{name_without_extension}_mcs_uws_label.pt\"\n",
    "                    torch.save(label, save_path)\n",
    "                    if uws_flag == 0:\n",
    "                        print(f\"被试类别：{condi_dir}, 标签：{label[0]}\")\n",
    "                        uws_flag = uws_flag + 1\n",
    "                    del label,data_map,filename\n",
    "                    gc.collect()\n",
    "                    torch.cuda.empty_cache()"
   ]
  },
  {
   "cell_type": "markdown",
   "id": "2fa9364a",
   "metadata": {},
   "source": [
    "# View Models"
   ]
  },
  {
   "cell_type": "code",
   "execution_count": null,
   "id": "b98716d7",
   "metadata": {},
   "outputs": [],
   "source": [
    "import torch\n",
    "from torchviz import make_dot\n",
    "import hiddenlayer as hl\n",
    "from network_cnn_lstm_2 import MyNetwork\n",
    "\n",
    "# 创建一个模型实例\n",
    "model = MyNetwork()\n",
    "\n",
    "# 使用 hiddenlayer 可视化模型结构\n",
    "transforms = [hl.transforms.Prune('Constant'), hl.transforms.Prune('Identity')]\n",
    "# 仅传递模型大层的 forward 函数\n",
    "graph = hl.build_graph(model, torch.zeros([110, 1, 1, 2400]), transforms=transforms)\n",
    "graph.theme = hl.graph.THEMES['blue'].copy()  # 选择一个主题\n",
    "graph.save(\"network_structure.png\", format=\"png\")\n",
    "\n",
    "# 显示图片\n",
    "from IPython.display import Image\n",
    "Image(\"network_structure.png\")\n",
    "\n",
    "# from network_cnn_lstm_4 import MyNetwork\n",
    "# from network_cnn_lstm import MyNetwork"
   ]
  }
 ],
 "metadata": {
  "kernelspec": {
   "display_name": "Python [conda env:pytorch] *",
   "language": "python",
   "name": "conda-env-pytorch-py"
  },
  "language_info": {
   "codemirror_mode": {
    "name": "ipython",
    "version": 3
   },
   "file_extension": ".py",
   "mimetype": "text/x-python",
   "name": "python",
   "nbconvert_exporter": "python",
   "pygments_lexer": "ipython3",
   "version": "3.6.13"
  }
 },
 "nbformat": 4,
 "nbformat_minor": 5
}
