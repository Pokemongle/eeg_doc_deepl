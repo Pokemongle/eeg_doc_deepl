{
 "cells": [
  {
   "cell_type": "code",
   "execution_count": 2,
   "id": "67a6aa40",
   "metadata": {},
   "outputs": [],
   "source": [
    "import torch\n",
    "import torchvision\n",
    "from torch import nn\n",
    "import torch.nn.functional as F\n",
    "from torch.utils.data import DataLoader\n",
    "import pandas as pd\n",
    "from load_data import MyData  # self-made\n",
    "from torchvision import transforms\n",
    "from tqdm import tqdm_notebook as tqdm # View procedure\n",
    "import os\n",
    "import scipy.io\n",
    "from random import random\n",
    "import numpy as np\n",
    "import gc\n",
    "from torch.utils.data import TensorDataset\n",
    "from torch.utils.data import DataLoader\n",
    "from net_cnn_lstm1 import MyNetwork"
   ]
  },
  {
   "cell_type": "markdown",
   "id": "f857f8e8",
   "metadata": {},
   "source": [
    "# self-made functions"
   ]
  },
  {
   "cell_type": "code",
   "execution_count": 3,
   "id": "4c640c1e",
   "metadata": {},
   "outputs": [],
   "source": [
    "def make_dataset(dataset,mode):\n",
    "    # find the fold file\n",
    "    count = 0\n",
    "    for person in range(len(dataset)):\n",
    "        filename = os.path.join(dataset.path, dataset.file_path[person])\n",
    "        # extract the pure name of the file\n",
    "        parts = filename.split(\"\\\\\")\n",
    "        file_name = parts[-1]\n",
    "        name_without_extension = file_name.split(\".\")[0]\n",
    "        # label or data\n",
    "        file_last = name_without_extension.split(\"_\")[-1]\n",
    "        if file_last.isdigit(): # data\n",
    "            # is this fold or not\n",
    "            if int(file_last) == fold: # yes\n",
    "                print(filename)\n",
    "                count = count + 1\n",
    "                data_map = torch.load(filename)\n",
    "                # train or test\n",
    "                if name_without_extension.split(\"_\")[-2] == \"train\":\n",
    "                    for i in range(data_map.size(0)):\n",
    "                        train_data.append(data_map[i])\n",
    "                elif name_without_extension.split(\"_\")[-2] == \"test\":\n",
    "                    for i in range(data_map.size(0)):\n",
    "                        test_data.append(data_map[i])\n",
    "                if count == 4:\n",
    "                    del data_map\n",
    "                    gc.collect()\n",
    "                    torch.cuda.empty_cache()\n",
    "                    break\n",
    "            else:   # not\n",
    "                pass\n",
    "        else: # label\n",
    "            file_last = name_without_extension.split(\"_\")[-4]\n",
    "            file_mode = name_without_extension.split(\"_\")[-2]\n",
    "            if file_mode == mode.split(\"_\")[-1]: # is this mode or not\n",
    "                # is this fold or not\n",
    "                if int(file_last) == fold: # yes\n",
    "                    print(filename)\n",
    "                    count = count + 1\n",
    "                    data_map = torch.load(filename)\n",
    "                    # train or test\n",
    "                    if name_without_extension.split(\"_\")[-5] == \"train\":\n",
    "                        for i in range(data_map.size(0)):\n",
    "                            train_label.append(data_map[i])\n",
    "                    elif name_without_extension.split(\"_\")[-5] == \"test\":\n",
    "                        for i in range(data_map.size(0)):\n",
    "                            test_label.append(data_map[i])\n",
    "                    if count == 4:\n",
    "                        del data_map\n",
    "                        gc.collect()\n",
    "                        torch.cuda.empty_cache()\n",
    "                        break\n",
    "                else:   # not\n",
    "                    pass\n",
    "            else:\n",
    "                pass\n",
    "        del filename, parts, file_name, name_without_extension, file_last\n",
    "        gc.collect()\n",
    "        torch.cuda.empty_cache()"
   ]
  },
  {
   "cell_type": "code",
   "execution_count": 4,
   "id": "ef45b4ef",
   "metadata": {},
   "outputs": [],
   "source": [
    "# ================================================ random\n",
    "BATCH_SIZE = 1\n",
    "C,H,W = 1,1,2400\n",
    "# learn_rate = 0.0005\n",
    "learn_rate=0.001\n",
    "# num_epochs=50\n",
    "num_epochs = 60"
   ]
  },
  {
   "cell_type": "code",
   "execution_count": 42,
   "id": "315a0df8",
   "metadata": {},
   "outputs": [
    {
     "name": "stdout",
     "output_type": "stream",
     "text": [
      "../data/eegmap_split/rest\\test\\mcs\\rest_mcs_test_4.pt\n",
      "../data/eegmap_split/rest\\test\\mcs\\rest_mcs_test_4_mcs_uws_label.pt\n",
      "../data/eegmap_split/rest\\test\\uws\\rest_uws_test_4.pt\n",
      "../data/eegmap_split/rest\\test\\uws\\rest_uws_test_4_mcs_uws_label.pt\n",
      "torch.Size([384, 2400, 10, 11])\n",
      "torch.Size([384])\n"
     ]
    }
   ],
   "source": [
    "device = torch.device(\"cuda:0\")\n",
    "gc.collect()\n",
    "torch.cuda.empty_cache()\n",
    "# model.eval()  # 设置为评估模式\n",
    "\n",
    "# ————————————————————————————————————————check this for every run!!!!!!!!!!!!!!!!\n",
    "# 设置训练参数\n",
    "    # experimental dir: rest, conditionA, conditionB, conditionC\n",
    "exper_dir = \"rest\"\n",
    "    # root_dir = f\"../data/eegmap_split/{exper_dir}\"\n",
    "root_dir = f\"../data/eegmap_split/{exper_dir}\"\n",
    "    # classification = \"hc_doc\"/doc or \"mcs_uws\"/uws\n",
    "# classification = \"hc_doc\"\n",
    "classification = \"mcs_uws\"\n",
    "# fold_num = 5\n",
    "fold = 4\n",
    "# ----------------------------------------------------------------------------------------\n",
    "# 加载数据\n",
    "test_data = []\n",
    "test_label = []\n",
    "if classification == \"hc_doc\":\n",
    "    # ---- hc\n",
    "    dataset = MyData(root_dir, \"test\", \"hc\") # hc\n",
    "    make_dataset(dataset,classification)\n",
    "    # ---- mcs\n",
    "dataset = MyData(root_dir, \"test\", \"mcs\") # hc\n",
    "make_dataset(dataset,classification)\n",
    "    # ---- uws\n",
    "dataset = MyData(root_dir, \"test\", \"uws\") # hc\n",
    "make_dataset(dataset,classification)\n",
    "print(torch.stack(test_data).size())\n",
    "print(torch.stack(test_label).size())\n",
    "del dataset\n",
    "gc.collect()\n",
    "torch.cuda.empty_cache()  \n",
    "test_data = torch.stack(test_data)\n",
    "test_label = torch.stack(test_label)\n",
    "    # test dataset\n",
    "test_td = TensorDataset(test_data, test_label)\n",
    "# test_loader = DataLoader(test_td, batch_size = BATCH_SIZE, shuffle = True)\n",
    "test_loader = DataLoader(test_td, batch_size = BATCH_SIZE, shuffle = False)\n",
    "del test_data, test_label, test_td\n",
    "gc.collect()\n",
    "torch.cuda.empty_cache()"
   ]
  },
  {
   "cell_type": "markdown",
   "id": "26a33827",
   "metadata": {},
   "source": [
    "# Train and get the grad"
   ]
  },
  {
   "cell_type": "markdown",
   "id": "59ec2348",
   "metadata": {},
   "source": [
    "## do this for every classification"
   ]
  },
  {
   "cell_type": "code",
   "execution_count": 6,
   "id": "f7810357",
   "metadata": {},
   "outputs": [
    {
     "name": "stdout",
     "output_type": "stream",
     "text": [
      "yes\n"
     ]
    }
   ],
   "source": [
    "flag_all = 0\n",
    "count_0_all = 0\n",
    "count_1_all = 0\n",
    "count_0_wrong_all = 0\n",
    "count_1_wrong_all = 0\n",
    "count_true_all = 0\n",
    "count_false_all = 0\n",
    "print(\"yes\")"
   ]
  },
  {
   "cell_type": "markdown",
   "id": "6e75df01",
   "metadata": {},
   "source": [
    "## do this for every fold"
   ]
  },
  {
   "cell_type": "code",
   "execution_count": 43,
   "id": "75a68564",
   "metadata": {},
   "outputs": [
    {
     "name": "stdout",
     "output_type": "stream",
     "text": [
      "yes\n"
     ]
    }
   ],
   "source": [
    "a = 0\n",
    "print(\"yes\")"
   ]
  },
  {
   "cell_type": "code",
   "execution_count": 44,
   "id": "843b5310",
   "metadata": {
    "scrolled": true
   },
   "outputs": [
    {
     "name": "stdout",
     "output_type": "stream",
     "text": [
      "../grad_cam/rest_1/mcs_uws/Fold4_Epoch23.pt\n"
     ]
    },
    {
     "name": "stderr",
     "output_type": "stream",
     "text": [
      "D:\\Anaconda\\envs\\pytorch\\lib\\site-packages\\ipykernel_launcher.py:35: TqdmDeprecationWarning: This function will be removed in tqdm==5.0.0\n",
      "Please use `tqdm.notebook.tqdm` instead of `tqdm.tqdm_notebook`\n"
     ]
    },
    {
     "data": {
      "application/vnd.jupyter.widget-view+json": {
       "model_id": "f2b038f2c88946ce84cde54c4a4c3464",
       "version_major": 2,
       "version_minor": 0
      },
      "text/plain": [
       "0it [00:00, ?it/s]"
      ]
     },
     "metadata": {},
     "output_type": "display_data"
    },
    {
     "name": "stdout",
     "output_type": "stream",
     "text": [
      "blank fold\n"
     ]
    }
   ],
   "source": [
    "import matplotlib.pyplot as plt\n",
    "import numpy as np\n",
    "\n",
    "torch.manual_seed(32)  # 固定随机种子\n",
    "# 定义模型结构和超参数\n",
    "input_size = 64  # 输入特征维度\n",
    "hidden_size = 64  # 隐藏单元数量\n",
    "num_layers = 2    # LSTM层数\n",
    "output_size = 2   # 输出类别数量\n",
    "\n",
    "# 实例化模型\n",
    "model = MyNetwork(input_size, hidden_size, num_layers, output_size)\n",
    "\n",
    "# 加载已训练好的模型参数\n",
    "if classification == 'hc_doc':\n",
    "    model_num = [15,13,23,16,19]\n",
    "    model_path = f'../grad_cam/rest_1/hc_doc/Fold{fold}_Epoch{model_num[fold]}.pt' \n",
    "elif classification == 'mcs_uws':\n",
    "    model_num = [36,27,33,32,23]\n",
    "    model_path = f'../grad_cam/rest_1/mcs_uws/Fold{fold}_Epoch{model_num[fold]}.pt' \n",
    "print(model_path)\n",
    "model.load_state_dict(torch.load(model_path))\n",
    "model = model.to(device)\n",
    "# 切换模型到训练模式\n",
    "model.train()\n",
    "# model.eval()\n",
    "\n",
    "indices = [0]\n",
    "\n",
    "count_0 = 0\n",
    "count_1 = 0\n",
    "count_0_wrong = 0\n",
    "count_1_wrong = 0\n",
    "\n",
    "for i, data in tqdm(enumerate(test_loader)):\n",
    "# for data in tqdm(test_loader):\n",
    "#     if i <= 200:\n",
    "    # testing code here\n",
    "    data_map, label=data\n",
    "    data_map_reshaped = torch.reshape(data_map, (110, 1, 1, 2400))\n",
    "    # data_map_reshaped = torch.reshape(data_map, (59, 1, 1, 2400))\n",
    "    label_int = label.long()\n",
    "    data_map_reshaped = data_map_reshaped.to(device)\n",
    "    label_int = label_int.to(device)\n",
    "    del data_map, label\n",
    "    gc.collect()\n",
    "    torch.cuda.empty_cache()\n",
    "    # y_pred\n",
    "    label_pred_test = model(data_map_reshaped)\n",
    "    predicted_class = label_pred_test.argmax(1)\n",
    "    # ======================================================= grad-cam\n",
    "    class_idx = predicted_class.item()\n",
    "    class_score = label_pred_test[0, class_idx]  # 选择目标类别的输出\n",
    "    # 反向传播以计算梯度\n",
    "    model.zero_grad()\n",
    "    class_score.backward() \n",
    "    # 获取目标卷积层的梯度和特征图\n",
    "    gradients = model.gradients  # 卷积层的梯度 [B, C, H, W]\n",
    "    feature_maps = model.feature_maps  # 卷积层的输出特征图 [B, C, H, W]\n",
    "    # 计算每个特征图通道的权重\n",
    "    pooled_gradients = torch.mean(gradients, dim=[2, 3])  # [B, C]\n",
    "    feature_maps *= pooled_gradients.unsqueeze(-1).unsqueeze(-1)  # [B, C, H, W] * [B, C, 1, 1]\n",
    "#         # 计算 Grad-CAM：对所有通道求平均并应用 ReLU\n",
    "    heatmap = torch.mean(feature_maps, dim=[0, 1]).squeeze()  # [H, W]\n",
    "#     print(heatmap.shape)\n",
    "#         heatmap = F.relu(heatmap)  # 负值归零\n",
    "#         heatmap /= torch.max(heatmap)  # 归一化到[0, 1]\n",
    "\n",
    "    if a == 0:\n",
    "        avg_heatmap_0 = torch.zeros_like(heatmap)  # 初始化全零张量用于存储平均热力图\n",
    "        avg_heatmap_1 = torch.zeros_like(heatmap)\n",
    "        avg_heatmap_0_wrong = torch.zeros_like(heatmap) # label为0但识别错误\n",
    "        avg_heatmap_1_wrong = torch.zeros_like(heatmap) # label为1但识别错误\n",
    "        avg_heatmap_true = torch.zeros_like(heatmap)\n",
    "        avg_heatmap_false = torch.zeros_like(heatmap)\n",
    "        a += 1\n",
    "        print(\"blank fold\")\n",
    "        \n",
    "    if flag_all == 0:\n",
    "        avg_heatmap_0_all = torch.zeros_like(heatmap)\n",
    "        avg_heatmap_1_all = torch.zeros_like(heatmap)\n",
    "        avg_heatmap_0_wrong_all = torch.zeros_like(heatmap)\n",
    "        avg_heatmap_1_wrong_all = torch.zeros_like(heatmap)\n",
    "        avg_heatmap_true_all = torch.zeros_like(heatmap)\n",
    "        avg_heatmap_false_all = torch.zeros_like(heatmap)\n",
    "        flag_all += 1\n",
    "        print(\"blank all\")\n",
    "    # separated labels\n",
    "    if label_int.item() == 0 and predicted_class == 0:\n",
    "        avg_heatmap_0 += heatmap\n",
    "        count_0 += 1\n",
    "    elif label_int.item() == 1 and predicted_class == 1:\n",
    "        avg_heatmap_1 += heatmap\n",
    "        count_1 += 1\n",
    "    elif label_int.item() == 0 and predicted_class == 1:\n",
    "        avg_heatmap_0_wrong += heatmap\n",
    "        count_0_wrong += 1\n",
    "    elif label_int.item() == 1 and predicted_class == 0:\n",
    "        avg_heatmap_1_wrong += heatmap\n",
    "        count_1_wrong += 1\n",
    "\n",
    "    # =================================================================\n",
    "    # Clear gpu\n",
    "    del data_map_reshaped, label_int, data, label_pred_test, predicted_class, class_idx, class_score, gradients, feature_maps\n",
    "    del pooled_gradients, heatmap\n",
    "    gc.collect()\n",
    "    torch.cuda.empty_cache()"
   ]
  },
  {
   "cell_type": "markdown",
   "id": "04fb1b01",
   "metadata": {},
   "source": [
    "# For every fold (separated labels)"
   ]
  },
  {
   "cell_type": "code",
   "execution_count": 45,
   "id": "772dcbbc",
   "metadata": {},
   "outputs": [
    {
     "name": "stdout",
     "output_type": "stream",
     "text": [
      "205\n",
      "164\n",
      "true guess: 369\n",
      "5\n",
      "10\n",
      "false guess: 15\n"
     ]
    }
   ],
   "source": [
    "print(count_0)\n",
    "print(count_1)\n",
    "print(f\"true guess: {count_0 + count_1}\")\n",
    "print(count_0_wrong)\n",
    "print(count_1_wrong)\n",
    "print(f\"false guess: {count_0_wrong + count_1_wrong}\")"
   ]
  },
  {
   "cell_type": "code",
   "execution_count": 46,
   "id": "5faa74cb",
   "metadata": {},
   "outputs": [],
   "source": [
    "coordinates = [\n",
    "    [0, 0, 0, 0, 0, 0, 0, 0, 1, 1, 1, 1, 1, 1, 1, 2, 2, 3, 4, 4, 5, 5, 6, 6, 7, 7, 7, 7, 7, 7, 7, 8, 8, 8, 8, 8, 8,\n",
    "     8, 8, 8],\n",
    "    [0, 1, 2, 3, 7, 8, 9, 10, 0, 1, 2, 5, 8, 9, 10, 0, 10, 5, 0, 10, 0, 10, 0, 10, 0, 1, 2, 5, 8, 9, 10, 0, 1, 2, 3, 5,\n",
    "     7, 8, 9, 10]\n",
    "]\n",
    "def gradcam_map(heatmap, count):\n",
    "    heatmap /= count # 求平均\n",
    "    heatmap = F.relu(heatmap) # 负值归零\n",
    "    heatmap = heatmap.reshape(10,11)\n",
    "    for i in range(40):\n",
    "        heatmap[coordinates[0][i], coordinates[1][i]]=0\n",
    "    heatmap /= torch.max(heatmap)  # 归一化到[0, 1]\n",
    "    heatmap = heatmap.cpu().detach().numpy()\n",
    "    heatmap = np.resize(heatmap, (10, 11))\n",
    "    heatmap = heatmap[:9, :11]# 只选择前9行和前11列\n",
    "    return heatmap\n",
    "    \n",
    "# ===========================================For separated labels\n",
    "# for all folds\n",
    "# avg_heatmap_0_all += avg_heatmap_0\n",
    "# avg_heatmap_1_all += avg_heatmap_1\n",
    "# avg_heatmap_0_wrong_all += avg_heatmap_0_wrong\n",
    "# avg_heatmap_1_wrong_all += avg_heatmap_1_wrong\n",
    "# count_0_all += count_0\n",
    "# count_1_all += count_1\n",
    "# count_0_wrong_all += count_0_wrong\n",
    "# count_1_wrong_all += count_1_wrong\n",
    "# for every fold\n",
    "# avg_heatmap_0 = gradcam_map(avg_heatmap_0, count_0)\n",
    "# avg_heatmap_1 = gradcam_map(avg_heatmap_1, count_1)\n",
    "# avg_heatmap_0_wrong = gradcam_map(avg_heatmap_0_wrong, count_0_wrong)\n",
    "# avg_heatmap_1_wrong = gradcam_map(avg_heatmap_1_wrong, count_1_wrong)\n",
    "# ===========================================For unseparated labels\n",
    "# for all folds\n",
    "# true guess\n",
    "avg_heatmap_true = count_0 * avg_heatmap_0 + count_1 * avg_heatmap_1\n",
    "avg_heatmap_true_all += avg_heatmap_true\n",
    "count_true_all += (count_0 + count_1)\n",
    "avg_heatmap_true = gradcam_map(avg_heatmap_true, count_0 + count_1)\n",
    "# false guess\n",
    "avg_heatmap_false = count_0_wrong * avg_heatmap_0_wrong + count_1_wrong * avg_heatmap_1_wrong\n",
    "avg_heatmap_false_all += avg_heatmap_false\n",
    "count_false_all += (count_0_wrong + count_1_wrong)\n",
    "avg_heatmap_false = gradcam_map(avg_heatmap_false, count_0_wrong + count_1_wrong)"
   ]
  },
  {
   "cell_type": "markdown",
   "id": "0756fd30",
   "metadata": {},
   "source": [
    "## draw every fold"
   ]
  },
  {
   "cell_type": "markdown",
   "id": "4aa6e2da",
   "metadata": {},
   "source": [
    "### For separated labels"
   ]
  },
  {
   "cell_type": "code",
   "execution_count": 47,
   "id": "20359a7b",
   "metadata": {
    "scrolled": true
   },
   "outputs": [],
   "source": [
    "# For separated labels\n",
    "# if classification == 'hc_doc':\n",
    "#     # 显示热力图\n",
    "#     plt.imshow(avg_heatmap_0, cmap='YlOrRd', alpha=0.6)  # 使用颜色映射\n",
    "#     plt.colorbar()  # 添加颜色条\n",
    "#     plt.title(f\"label: HC, pred: HC, fold{fold}\")\n",
    "#     plt.show()\n",
    "\n",
    "#     plt.imshow(avg_heatmap_1, cmap='YlOrRd', alpha=0.6)  # 使用颜色映射\n",
    "#     plt.colorbar()  # 添加颜色条\n",
    "#     plt.title(f\"label: DOC, pred: DOC, fold{fold}\")\n",
    "#     plt.show()\n",
    "\n",
    "#     plt.imshow(avg_heatmap_0_wrong, cmap='YlOrRd', alpha=0.6)  # 使用颜色映射\n",
    "#     plt.colorbar()  # 添加颜色条\n",
    "#     plt.title(f\"label: HC, pred: DOC, fold{fold}\")\n",
    "#     plt.show()\n",
    "\n",
    "#     plt.imshow(avg_heatmap_1_wrong, cmap='YlOrRd', alpha=0.6)  # 使用颜色映射\n",
    "#     plt.colorbar()  # 添加颜色条\n",
    "#     plt.title(f\"label: DOC, pred: HC, fold{fold}\")\n",
    "#     plt.show()\n",
    "# elif classification == 'mcs_uws':\n",
    "#     # 显示热力图\n",
    "#     plt.imshow(avg_heatmap_0, cmap='YlOrRd', alpha=0.6)  # 使用颜色映射\n",
    "#     plt.colorbar()  # 添加颜色条\n",
    "#     plt.title(f\"label: MCS, pred: MCS, fold{fold}\")\n",
    "#     plt.show()\n",
    "\n",
    "#     plt.imshow(avg_heatmap_1, cmap='YlOrRd', alpha=0.6)  # 使用颜色映射\n",
    "#     plt.colorbar()  # 添加颜色条\n",
    "#     plt.title(f\"label: UWS, pred: UWS, fold{fold}\")\n",
    "#     plt.show()\n",
    "\n",
    "#     plt.imshow(avg_heatmap_0_wrong, cmap='YlOrRd', alpha=0.6)  # 使用颜色映射\n",
    "#     plt.colorbar()  # 添加颜色条\n",
    "#     plt.title(f\"label: MCS, pred: UWS, fold{fold}\")\n",
    "#     plt.show()\n",
    "\n",
    "#     plt.imshow(avg_heatmap_1_wrong, cmap='YlOrRd', alpha=0.6)  # 使用颜色映射\n",
    "#     plt.colorbar()  # 添加颜色条\n",
    "#     plt.title(f\"label: UWS, pred: MCS, fold{fold}\")\n",
    "#     plt.show()\n",
    "\n",
    "# print(\"\\n===========================================\\n\")\n",
    "# print(avg_heatmap_0)\n",
    "# print(\"\\n===========================================\\n\")\n",
    "# print(avg_heatmap_1)\n",
    "# print(\"\\n===========================================\\n\")\n",
    "# print(avg_heatmap_0_wrong)\n",
    "# print(\"\\n===========================================\\n\")\n",
    "# print(avg_heatmap_1_wrong)"
   ]
  },
  {
   "cell_type": "code",
   "execution_count": 48,
   "id": "a9fd7684",
   "metadata": {},
   "outputs": [],
   "source": [
    "# from openpyxl import load_workbook\n",
    "\n",
    "# # 将每个 numpy array 转换为 DataFrame\n",
    "# df_heatmap_0 = pd.DataFrame(avg_heatmap_0)\n",
    "# df_heatmap_1 = pd.DataFrame(avg_heatmap_1)\n",
    "# df_heatmap_0_wrong = pd.DataFrame(avg_heatmap_0_wrong)\n",
    "# df_heatmap_1_wrong = pd.DataFrame(avg_heatmap_1_wrong)\n",
    "\n",
    "# if classification == 'hc_doc':\n",
    "#     file_name = 'heatmaps_hc_doc.xlsx'\n",
    "    \n",
    "#     # 读取现有的 Excel 文件\n",
    "#     try:\n",
    "#         book = load_workbook(file_name)\n",
    "#         writer = pd.ExcelWriter(file_name, engine='openpyxl')\n",
    "#         writer.book = book\n",
    "#     except FileNotFoundError:\n",
    "#         writer = pd.ExcelWriter(file_name, engine='openpyxl')\n",
    "        \n",
    "#     # 每个数组保存为单独的工作表\n",
    "#     df_heatmap_0.to_excel(writer, sheet_name=f'HC_HC_{fold}', index=False)\n",
    "#     df_heatmap_1.to_excel(writer, sheet_name=f'DOC_DOC_{fold}', index=False)\n",
    "#     df_heatmap_0_wrong.to_excel(writer, sheet_name=f'HC_DOC_{fold}', index=False)\n",
    "#     df_heatmap_1_wrong.to_excel(writer, sheet_name=f'DOC_HC_{fold}', index=False)\n",
    "    \n",
    "#     writer.save()\n",
    "#     print(f\"HC/DOC 保存{fold}成功！\")\n",
    "\n",
    "# elif classification == 'mcs_uws':\n",
    "#     file_name = 'heatmaps_mcs_uws.xlsx'\n",
    "    \n",
    "#     # 读取现有的 Excel 文件\n",
    "#     try:\n",
    "#         book = load_workbook(file_name)\n",
    "#         writer = pd.ExcelWriter(file_name, engine='openpyxl')\n",
    "#         writer.book = book\n",
    "#     except FileNotFoundError:\n",
    "#         writer = pd.ExcelWriter(file_name, engine='openpyxl')\n",
    "    \n",
    "#     # 每个数组保存为单独的工作表\n",
    "#     df_heatmap_0.to_excel(writer, sheet_name=f'MCS_MCS_{fold}', index=False)\n",
    "#     df_heatmap_1.to_excel(writer, sheet_name=f'UWS_UWS_{fold}', index=False)\n",
    "#     df_heatmap_0_wrong.to_excel(writer, sheet_name=f'MCS_UWS_{fold}', index=False)\n",
    "#     df_heatmap_1_wrong.to_excel(writer, sheet_name=f'UWS_MCS_{fold}', index=False)\n",
    "        \n",
    "#     writer.save()\n",
    "#     print(f\"MCS/UWS 保存{fold}成功！\")"
   ]
  },
  {
   "cell_type": "markdown",
   "id": "0164b9f6",
   "metadata": {},
   "source": [
    "### For unseparated labels"
   ]
  },
  {
   "cell_type": "code",
   "execution_count": 49,
   "id": "e216c92f",
   "metadata": {},
   "outputs": [
    {
     "data": {
      "image/png": "[encoded data removed]",
      "text/plain": [
       "<Figure size 432x288 with 2 Axes>"
      ]
     },
     "metadata": {
      "needs_background": "light"
     },
     "output_type": "display_data"
    },
    {
     "data": {
      "image/png": "[encoded data removed]",
      "text/plain": [
       "<Figure size 432x288 with 2 Axes>"
      ]
     },
     "metadata": {
      "needs_background": "light"
     },
     "output_type": "display_data"
    },
    {
     "name": "stdout",
     "output_type": "stream",
     "text": [
      "\n",
      "===========================================\n",
      "\n",
      "[[0.         0.         0.         0.         0.         0.00220201\n",
      "  0.         0.         0.         0.         0.        ]\n",
      " [0.         0.         0.         0.         0.         0.\n",
      "  0.         0.         0.         0.         0.        ]\n",
      " [0.         0.         0.17129186 0.         0.         0.1791169\n",
      "  0.         0.         0.         0.06656526 0.        ]\n",
      " [0.         0.         0.         0.         0.         0.\n",
      "  0.         0.         0.         0.         0.        ]\n",
      " [0.         0.         0.         0.         0.         0.\n",
      "  0.         0.         0.         0.44244197 0.        ]\n",
      " [0.         0.15511872 0.         0.         0.         0.18708397\n",
      "  0.5260726  0.         0.         0.47677892 0.        ]\n",
      " [0.         0.         0.35074562 0.         0.         0.16742453\n",
      "  0.         0.         0.         0.         0.        ]\n",
      " [0.         0.         0.         0.         0.         0.\n",
      "  0.         0.         0.         0.         0.        ]\n",
      " [0.         0.         0.         0.         0.25944126 0.\n",
      "  1.         0.         0.         0.         0.        ]]\n",
      "\n",
      "===========================================\n",
      "\n",
      "[[0.         0.         0.         0.         0.         0.\n",
      "  0.         0.         0.         0.         0.        ]\n",
      " [0.         0.         0.         0.         0.         0.\n",
      "  0.         0.         0.         0.         0.        ]\n",
      " [0.         0.21243711 0.8930052  1.         0.359782   0.27272007\n",
      "  0.         0.         0.         0.         0.        ]\n",
      " [0.         0.         0.         0.         0.         0.\n",
      "  0.         0.         0.         0.         0.        ]\n",
      " [0.         0.         0.         0.         0.         0.\n",
      "  0.         0.         0.         0.         0.        ]\n",
      " [0.         0.         0.661611   0.         0.         0.7049921\n",
      "  0.23351157 0.86358804 0.         0.58949244 0.        ]\n",
      " [0.         0.         0.         0.         0.         0.\n",
      "  0.         0.         0.         0.         0.        ]\n",
      " [0.         0.         0.         0.         0.         0.\n",
      "  0.         0.         0.         0.         0.        ]\n",
      " [0.         0.         0.         0.         0.05471176 0.\n",
      "  0.21533717 0.         0.         0.         0.        ]]\n",
      "\n",
      "===========================================\n",
      "\n"
     ]
    }
   ],
   "source": [
    "# For unseparated heatmap\n",
    "# 显示热力图\n",
    "plt.imshow(avg_heatmap_true, cmap='YlOrRd', alpha=0.6)  # 使用颜色映射\n",
    "plt.colorbar()  # 添加颜色条\n",
    "if classification == 'hc_doc':\n",
    "    plt.title(f\"HC/DOC correct prediction, fold{fold}\")\n",
    "elif classification == 'mcs_uws':\n",
    "    plt.title(f\"MCS/UWS correct prediction, fold{fold}\")\n",
    "plt.show()\n",
    "\n",
    "plt.imshow(avg_heatmap_false, cmap='YlOrRd', alpha=0.6)  # 使用颜色映射\n",
    "plt.colorbar()  # 添加颜色条\n",
    "if classification == 'hc_doc':\n",
    "    plt.title(f\"HC/DOC wrong prediction, fold{fold}\")\n",
    "elif classification == 'mcs_uws':\n",
    "    plt.title(f\"MCS/UWS wrong prediction, fold{fold}\")\n",
    "plt.show()\n",
    "\n",
    "print(\"\\n===========================================\\n\")\n",
    "print(avg_heatmap_true)\n",
    "print(\"\\n===========================================\\n\")\n",
    "print(avg_heatmap_false)\n",
    "print(\"\\n===========================================\\n\")"
   ]
  },
  {
   "cell_type": "code",
   "execution_count": 50,
   "id": "c33e1ce8",
   "metadata": {},
   "outputs": [
    {
     "name": "stdout",
     "output_type": "stream",
     "text": [
      "MCS/UWS 保存4成功！\n"
     ]
    }
   ],
   "source": [
    "from openpyxl import load_workbook\n",
    "\n",
    "# 将每个 numpy array 转换为 DataFrame\n",
    "df_heatmap_true = pd.DataFrame(avg_heatmap_true)\n",
    "df_heatmap_false = pd.DataFrame(avg_heatmap_false)\n",
    "if classification == 'hc_doc':\n",
    "    file_name = 'heatmaps_hc_doc_unseparated.xlsx'\n",
    "    \n",
    "    # 读取现有的 Excel 文件\n",
    "    try:\n",
    "        book = load_workbook(file_name)\n",
    "        writer = pd.ExcelWriter(file_name, engine='openpyxl')\n",
    "        writer.book = book\n",
    "    except FileNotFoundError:\n",
    "        writer = pd.ExcelWriter(file_name, engine='openpyxl')\n",
    "        \n",
    "    # 每个数组保存为单独的工作表\n",
    "    df_heatmap_true.to_excel(writer, sheet_name=f'correct_{fold}', index=False)\n",
    "    df_heatmap_false.to_excel(writer, sheet_name=f'false_{fold}', index=False)\n",
    "\n",
    "    writer.save()\n",
    "    print(f\"HC/DOC 保存{fold}成功！\")\n",
    "\n",
    "elif classification == 'mcs_uws':\n",
    "    file_name = 'heatmaps_mcs_uws_unseparated.xlsx'\n",
    "    \n",
    "    # 读取现有的 Excel 文件\n",
    "    try:\n",
    "        book = load_workbook(file_name)\n",
    "        writer = pd.ExcelWriter(file_name, engine='openpyxl')\n",
    "        writer.book = book\n",
    "    except FileNotFoundError:\n",
    "        writer = pd.ExcelWriter(file_name, engine='openpyxl')\n",
    "    \n",
    "    # 每个数组保存为单独的工作表\n",
    "    df_heatmap_true.to_excel(writer, sheet_name=f'correct_{fold}', index=False)\n",
    "    df_heatmap_false.to_excel(writer, sheet_name=f'false_{fold}', index=False)\n",
    "        \n",
    "    writer.save()\n",
    "    print(f\"MCS/UWS 保存{fold}成功！\")"
   ]
  },
  {
   "cell_type": "markdown",
   "id": "cee5f497",
   "metadata": {},
   "source": [
    "# For all fold"
   ]
  },
  {
   "cell_type": "markdown",
   "id": "83a1c051",
   "metadata": {},
   "source": [
    "## generate gradcam map"
   ]
  },
  {
   "cell_type": "code",
   "execution_count": 51,
   "id": "6c83cf03",
   "metadata": {},
   "outputs": [
    {
     "name": "stdout",
     "output_type": "stream",
     "text": [
      "1867\n",
      "53\n",
      "tensor([[-2.4353e-02,  1.4010e-02, -1.9756e-02, -2.2077e-02,  9.5002e-03,\n",
      "          3.0417e-03, -3.7198e-02, -1.8207e-02, -3.4562e-02, -4.0329e-02,\n",
      "         -4.0167e-02],\n",
      "        [-1.4977e-02, -5.1408e-02, -1.4433e-02, -1.7265e-02, -2.7185e-02,\n",
      "         -4.2923e-02, -7.4331e-03, -2.4583e-02, -6.7679e-02, -2.3899e-02,\n",
      "         -3.0837e-02],\n",
      "        [-2.3006e-03, -1.8654e-02,  1.3977e-02, -1.5491e-02, -1.4019e-02,\n",
      "          8.0989e-03, -2.6308e-03, -3.6828e-02, -2.5472e-02,  8.7789e-03,\n",
      "         -5.7169e-03],\n",
      "        [-1.9902e-02, -2.7281e-02,  4.1540e-03, -2.7490e-02,  7.0620e-05,\n",
      "         -1.6761e-02, -2.9206e-02, -1.7498e-02, -1.6710e-02, -1.2541e-02,\n",
      "         -5.8754e-02],\n",
      "        [-5.3258e-02, -5.9213e-02,  1.2506e-02, -2.1853e-02, -1.8509e-02,\n",
      "         -2.4422e-02, -4.5943e-02, -4.5557e-02, -2.5759e-02, -1.3296e-02,\n",
      "         -9.0647e-03],\n",
      "        [-4.1627e-02, -3.6784e-03, -5.1486e-02, -1.3172e-02, -5.3333e-02,\n",
      "         -1.9758e-02, -2.5711e-02,  2.7637e-03, -3.8614e-02, -2.7835e-02,\n",
      "          2.4608e-02],\n",
      "        [-3.8789e-02, -4.3658e-02,  1.2719e-02, -2.1375e-02, -3.4552e-02,\n",
      "         -4.2936e-03, -3.2784e-03, -1.0657e-02, -2.6844e-02, -1.2952e-02,\n",
      "         -1.8206e-02],\n",
      "        [ 7.0534e-03, -4.3363e-02, -4.0644e-04, -1.9375e-02, -4.9138e-03,\n",
      "         -6.4966e-02, -1.8880e-02, -1.4134e-02, -4.8604e-02, -3.8176e-02,\n",
      "         -1.9747e-02],\n",
      "        [-5.5077e-02, -3.0430e-02, -2.6964e-02, -2.0370e-02, -2.4602e-02,\n",
      "         -2.5992e-02,  3.6694e-03, -7.1958e-03, -3.8728e-02, -2.9157e-02,\n",
      "         -1.2320e-02],\n",
      "        [-3.5279e-02, -3.3017e-02, -2.1372e-02, -1.1321e-02, -3.0636e-02,\n",
      "         -1.8811e-02,  2.3974e-02, -4.2313e-02, -2.6829e-03, -1.0335e-03,\n",
      "          4.2696e-03]], device='cuda:0', grad_fn=<AddBackward0>)\n",
      "tensor([[-2.4353e-02,  1.4010e-02, -1.9756e-02, -2.2077e-02,  9.5002e-03,\n",
      "          3.0417e-03, -3.7198e-02, -1.8207e-02, -3.4562e-02, -4.0329e-02,\n",
      "         -4.0167e-02],\n",
      "        [-1.4977e-02, -5.1408e-02, -1.4433e-02, -1.7265e-02, -2.7185e-02,\n",
      "         -4.2923e-02, -7.4331e-03, -2.4583e-02, -6.7679e-02, -2.3899e-02,\n",
      "         -3.0837e-02],\n",
      "        [-2.3006e-03, -1.8654e-02,  1.3977e-02, -1.5491e-02, -1.4019e-02,\n",
      "          8.0989e-03, -2.6308e-03, -3.6828e-02, -2.5472e-02,  8.7789e-03,\n",
      "         -5.7169e-03],\n",
      "        [-1.9902e-02, -2.7281e-02,  4.1540e-03, -2.7490e-02,  7.0620e-05,\n",
      "         -1.6761e-02, -2.9206e-02, -1.7498e-02, -1.6710e-02, -1.2541e-02,\n",
      "         -5.8754e-02],\n",
      "        [-5.3258e-02, -5.9213e-02,  1.2506e-02, -2.1853e-02, -1.8509e-02,\n",
      "         -2.4422e-02, -4.5943e-02, -4.5557e-02, -2.5759e-02, -1.3296e-02,\n",
      "         -9.0647e-03],\n",
      "        [-4.1627e-02, -3.6784e-03, -5.1486e-02, -1.3172e-02, -5.3333e-02,\n",
      "         -1.9758e-02, -2.5711e-02,  2.7637e-03, -3.8614e-02, -2.7835e-02,\n",
      "          2.4608e-02],\n",
      "        [-3.8789e-02, -4.3658e-02,  1.2719e-02, -2.1375e-02, -3.4552e-02,\n",
      "         -4.2936e-03, -3.2784e-03, -1.0657e-02, -2.6844e-02, -1.2952e-02,\n",
      "         -1.8206e-02],\n",
      "        [ 7.0534e-03, -4.3363e-02, -4.0644e-04, -1.9375e-02, -4.9138e-03,\n",
      "         -6.4966e-02, -1.8880e-02, -1.4134e-02, -4.8604e-02, -3.8176e-02,\n",
      "         -1.9747e-02],\n",
      "        [-5.5077e-02, -3.0430e-02, -2.6964e-02, -2.0370e-02, -2.4602e-02,\n",
      "         -2.5992e-02,  3.6694e-03, -7.1958e-03, -3.8728e-02, -2.9157e-02,\n",
      "         -1.2320e-02],\n",
      "        [-3.5279e-02, -3.3017e-02, -2.1372e-02, -1.1321e-02, -3.0636e-02,\n",
      "         -1.8811e-02,  2.3974e-02, -4.2313e-02, -2.6829e-03, -1.0335e-03,\n",
      "          4.2696e-03]], device='cuda:0', grad_fn=<AddBackward0>)\n"
     ]
    }
   ],
   "source": [
    "print(count_true_all)\n",
    "print(count_false_all)\n",
    "print(avg_heatmap_true_all)\n",
    "print(avg_heatmap_true_all)"
   ]
  },
  {
   "cell_type": "code",
   "execution_count": 52,
   "id": "c5f7d545",
   "metadata": {},
   "outputs": [],
   "source": [
    "coordinates = [\n",
    "    [0, 0, 0, 0, 0, 0, 0, 0, 1, 1, 1, 1, 1, 1, 1, 2, 2, 3, 4, 4, 5, 5, 6, 6, 7, 7, 7, 7, 7, 7, 7, 8, 8, 8, 8, 8, 8,\n",
    "     8, 8, 8],\n",
    "    [0, 1, 2, 3, 7, 8, 9, 10, 0, 1, 2, 5, 8, 9, 10, 0, 10, 5, 0, 10, 0, 10, 0, 10, 0, 1, 2, 5, 8, 9, 10, 0, 1, 2, 3, 5,\n",
    "     7, 8, 9, 10]\n",
    "]\n",
    "def gradcam_map(heatmap, count):\n",
    "    heatmap /= count # 求平均\n",
    "    heatmap = F.relu(heatmap) # 负值归零\n",
    "    heatmap = heatmap.reshape(10,11)\n",
    "    for i in range(40):\n",
    "        heatmap[coordinates[0][i], coordinates[1][i]]=0\n",
    "    heatmap /= torch.max(heatmap)  # 归一化到[0, 1]\n",
    "    heatmap = heatmap.cpu().detach().numpy()\n",
    "    heatmap = np.resize(heatmap, (10, 11))\n",
    "    heatmap = heatmap[:9, :11]# 只选择前9行和前11列\n",
    "    return heatmap\n",
    "\n",
    "# For separated labels\n",
    "# avg_heatmap_0_all = gradcam_map(avg_heatmap_0_all, count_0_all)\n",
    "# avg_heatmap_1_all = gradcam_map(avg_heatmap_1_all, count_1_all)\n",
    "# avg_heatmap_0_wrong_all = gradcam_map(avg_heatmap_0_wrong_all, count_0_wrong_all)\n",
    "# avg_heatmap_1_wrong_all = gradcam_map(avg_heatmap_1_wrong_all, count_1_wrong_all)\n",
    "\n",
    "# For unseparated labels\n",
    "# true guess\n",
    "avg_heatmap_true_all = gradcam_map(avg_heatmap_true_all, count_true_all)\n",
    "# false guess\n",
    "avg_heatmap_false_all = gradcam_map(avg_heatmap_false_all, count_false_all)"
   ]
  },
  {
   "cell_type": "markdown",
   "id": "b135c290",
   "metadata": {},
   "source": [
    "## draw all fold"
   ]
  },
  {
   "cell_type": "markdown",
   "id": "7d9042e4",
   "metadata": {},
   "source": [
    "### For separated labels"
   ]
  },
  {
   "cell_type": "code",
   "execution_count": 53,
   "id": "6b9c816e",
   "metadata": {},
   "outputs": [],
   "source": [
    "# if classification == 'hc_doc':\n",
    "#     plt.imshow(avg_heatmap_0_all, cmap='YlOrRd', alpha=0.6)  # 使用颜色映射\n",
    "#     plt.colorbar()  # 添加颜色条\n",
    "#     plt.title(f\"label: HC, pred: HC\")\n",
    "#     plt.show()\n",
    "\n",
    "#     plt.imshow(avg_heatmap_1_all, cmap='YlOrRd', alpha=0.6)  # 使用颜色映射\n",
    "#     plt.colorbar()  # 添加颜色条\n",
    "#     plt.title(f\"label: DOC, pred: DOC\")\n",
    "#     plt.show()\n",
    "\n",
    "#     plt.imshow(avg_heatmap_0_wrong_all, cmap='YlOrRd', alpha=0.6)  # 使用颜色映射\n",
    "#     plt.colorbar()  # 添加颜色条\n",
    "#     plt.title(f\"label: HC, pred: DOC\")\n",
    "#     plt.show()\n",
    "\n",
    "#     plt.imshow(avg_heatmap_1_wrong_all, cmap='YlOrRd', alpha=0.6)  # 使用颜色映射\n",
    "#     plt.colorbar()  # 添加颜色条\n",
    "#     plt.title(f\"label: DOC, pred: HC\")\n",
    "#     plt.show()\n",
    "    \n",
    "# elif classification == 'mcs_uws':\n",
    "#     # 显示热力图\n",
    "#     plt.imshow(avg_heatmap_0_all, cmap='YlOrRd', alpha=0.6)  # 使用颜色映射\n",
    "#     plt.colorbar()  # 添加颜色条\n",
    "#     plt.title(f\"label: MCS, pred: MCS\")\n",
    "#     plt.show()\n",
    "\n",
    "#     plt.imshow(avg_heatmap_1_all, cmap='YlOrRd', alpha=0.6)  # 使用颜色映射\n",
    "#     plt.colorbar()  # 添加颜色条\n",
    "#     plt.title(f\"label: UWS, pred: UWS\")\n",
    "#     plt.show()\n",
    "\n",
    "#     plt.imshow(avg_heatmap_0_wrong_all, cmap='YlOrRd', alpha=0.6)  # 使用颜色映射\n",
    "#     plt.colorbar()  # 添加颜色条\n",
    "#     plt.title(f\"label: MCS, pred: UWS\")\n",
    "#     plt.show()\n",
    "\n",
    "#     plt.imshow(avg_heatmap_1_wrong_all, cmap='YlOrRd', alpha=0.6)  # 使用颜色映射\n",
    "#     plt.colorbar()  # 添加颜色条\n",
    "#     plt.title(f\"label: UWS, pred: MCS\")\n",
    "#     plt.show()\n",
    "\n",
    "# print(\"\\n===========================================\\n\")\n",
    "# print(avg_heatmap_0_all)\n",
    "# print(\"\\n===========================================\\n\")\n",
    "# print(avg_heatmap_1_all)\n",
    "# print(\"\\n===========================================\\n\")\n",
    "# print(avg_heatmap_0_wrong_all)\n",
    "# print(\"\\n===========================================\\n\")\n",
    "# print(avg_heatmap_1_wrong_all)"
   ]
  },
  {
   "cell_type": "code",
   "execution_count": 54,
   "id": "c261fc87",
   "metadata": {},
   "outputs": [],
   "source": [
    "# # 将每个 numpy array 转换为 DataFrame\n",
    "# df_heatmap_0_all = pd.DataFrame(avg_heatmap_0_all)\n",
    "# df_heatmap_1_all = pd.DataFrame(avg_heatmap_1_all)\n",
    "# df_heatmap_0_wrong_all = pd.DataFrame(avg_heatmap_0_wrong_all)\n",
    "# df_heatmap_1_wrong_all = pd.DataFrame(avg_heatmap_1_wrong_all)\n",
    "\n",
    "\n",
    "# if classification == 'hc_doc':\n",
    "#     file_name = 'heatmaps_hc_doc.xlsx'\n",
    "    \n",
    "#     # 读取现有的 Excel 文件\n",
    "#     try:\n",
    "#         book = load_workbook(file_name)\n",
    "#         writer = pd.ExcelWriter(file_name, engine='openpyxl')\n",
    "#         writer.book = book\n",
    "#     except FileNotFoundError:\n",
    "#         writer = pd.ExcelWriter(file_name, engine='openpyxl')\n",
    "        \n",
    "#     # 每个数组保存为单独的工作表\n",
    "#     df_heatmap_0_all.to_excel(writer, sheet_name=f'HC_HC_all', index=False)\n",
    "#     df_heatmap_1_all.to_excel(writer, sheet_name=f'DOC_DOC_all', index=False)\n",
    "#     df_heatmap_0_wrong_all.to_excel(writer, sheet_name=f'HC_DOC_all', index=False)\n",
    "#     df_heatmap_1_wrong_all.to_excel(writer, sheet_name=f'DOC_HC_all', index=False)\n",
    "    \n",
    "#     writer.save()\n",
    "#     print(\"保存成功！\")\n",
    "\n",
    "# elif classification == 'mcs_uws':\n",
    "#     file_name = 'heatmaps_mcs_uws.xlsx'\n",
    "    \n",
    "#     # 读取现有的 Excel 文件\n",
    "#     try:\n",
    "#         book = load_workbook(file_name)\n",
    "#         writer = pd.ExcelWriter(file_name, engine='openpyxl')\n",
    "#         writer.book = book\n",
    "#     except FileNotFoundError:\n",
    "#         writer = pd.ExcelWriter(file_name, engine='openpyxl')\n",
    "    \n",
    "#     # 每个数组保存为单独的工作表\n",
    "#     df_heatmap_0_all.to_excel(writer, sheet_name=f'MCS_MCS_all', index=False)\n",
    "#     df_heatmap_1_all.to_excel(writer, sheet_name=f'UWS_UWS_all', index=False)\n",
    "#     df_heatmap_0_wrong_all.to_excel(writer, sheet_name=f'MCS_UWS_all', index=False)\n",
    "#     df_heatmap_1_wrong_all.to_excel(writer, sheet_name=f'UWS_MCS_all', index=False)\n",
    "        \n",
    "#     writer.save()\n",
    "#     print(\"保存成功2！\")"
   ]
  },
  {
   "cell_type": "markdown",
   "id": "da3844aa",
   "metadata": {},
   "source": [
    "### For unseparated labels"
   ]
  },
  {
   "cell_type": "code",
   "execution_count": 55,
   "id": "f9365b4b",
   "metadata": {},
   "outputs": [
    {
     "data": {
      "image/png": "[encoded data removed]",
      "text/plain": [
       "<Figure size 432x288 with 2 Axes>"
      ]
     },
     "metadata": {
      "needs_background": "light"
     },
     "output_type": "display_data"
    },
    {
     "data": {
      "image/png": "[encoded data removed]",
      "text/plain": [
       "<Figure size 432x288 with 2 Axes>"
      ]
     },
     "metadata": {
      "needs_background": "light"
     },
     "output_type": "display_data"
    },
    {
     "name": "stdout",
     "output_type": "stream",
     "text": [
      "\n",
      "===========================================\n",
      "\n",
      "[[0.         0.         0.         0.         0.3962695  0.12687477\n",
      "  0.         0.         0.         0.         0.        ]\n",
      " [0.         0.         0.         0.         0.         0.\n",
      "  0.         0.         0.         0.         0.        ]\n",
      " [0.         0.         0.5830242  0.         0.         0.3378203\n",
      "  0.         0.         0.         0.3661821  0.        ]\n",
      " [0.         0.         0.17327246 0.         0.00294569 0.\n",
      "  0.         0.         0.         0.         0.        ]\n",
      " [0.         0.         0.5216666  0.         0.         0.\n",
      "  0.         0.         0.         0.         0.        ]\n",
      " [0.         0.         0.         0.         0.         0.\n",
      "  0.         0.11527805 0.         0.         0.        ]\n",
      " [0.         0.         0.530543   0.         0.         0.\n",
      "  0.         0.         0.         0.         0.        ]\n",
      " [0.         0.         0.         0.         0.         0.\n",
      "  0.         0.         0.         0.         0.        ]\n",
      " [0.         0.         0.         0.         0.         0.\n",
      "  0.15305723 0.         0.         0.         0.        ]]\n",
      "\n",
      "===========================================\n",
      "\n",
      "[[0.         0.         0.         0.         0.         0.\n",
      "  0.         0.         0.         0.         0.        ]\n",
      " [0.         0.         0.         0.         0.5476464  0.\n",
      "  0.         0.15140983 0.         0.         0.        ]\n",
      " [0.         0.09471673 0.6740782  0.5994524  0.01216421 0.22734632\n",
      "  0.         0.10463002 0.         0.         0.        ]\n",
      " [0.         0.         0.         0.         0.         0.\n",
      "  0.         0.         0.         0.42780226 0.        ]\n",
      " [0.         0.         0.         0.         0.         0.07352584\n",
      "  0.         0.         0.         0.         0.        ]\n",
      " [0.         0.09165943 0.16581127 0.         0.         0.5359428\n",
      "  0.         1.         0.         0.         0.        ]\n",
      " [0.         0.         0.         0.25670546 0.         0.\n",
      "  0.         0.         0.         0.         0.        ]\n",
      " [0.         0.         0.         0.         0.         0.\n",
      "  0.         0.         0.         0.         0.        ]\n",
      " [0.         0.         0.         0.         0.45216385 0.\n",
      "  0.17822228 0.         0.         0.         0.        ]]\n",
      "\n",
      "===========================================\n",
      "\n"
     ]
    }
   ],
   "source": [
    "# For unseparated heatmap\n",
    "# 显示热力图\n",
    "plt.imshow(avg_heatmap_true_all, cmap='YlOrRd', alpha=0.6)  # 使用颜色映射\n",
    "plt.colorbar()  # 添加颜色条\n",
    "if classification == 'hc_doc':\n",
    "    plt.title(f\"HC/DOC correct prediction\")\n",
    "elif classification == 'mcs_uws':\n",
    "    plt.title(f\"MCS/UWS correct prediction\")\n",
    "plt.show()\n",
    "\n",
    "plt.imshow(avg_heatmap_false_all, cmap='YlOrRd', alpha=0.6)  # 使用颜色映射\n",
    "plt.colorbar()  # 添加颜色条\n",
    "if classification == 'hc_doc':\n",
    "    plt.title(f\"HC/DOC wrong prediction\")\n",
    "elif classification == 'mcs_uws':\n",
    "    plt.title(f\"MCS/UWS wrong prediction\")\n",
    "plt.show()\n",
    "\n",
    "print(\"\\n===========================================\\n\")\n",
    "print(avg_heatmap_true_all)\n",
    "print(\"\\n===========================================\\n\")\n",
    "print(avg_heatmap_false_all)\n",
    "print(\"\\n===========================================\\n\")"
   ]
  },
  {
   "cell_type": "code",
   "execution_count": 56,
   "id": "fa1ff1a8",
   "metadata": {},
   "outputs": [
    {
     "name": "stdout",
     "output_type": "stream",
     "text": [
      "MCS/UWS 保存成功！\n"
     ]
    }
   ],
   "source": [
    "from openpyxl import load_workbook\n",
    "\n",
    "# 将每个 numpy array 转换为 DataFrame\n",
    "df_heatmap_true_all = pd.DataFrame(avg_heatmap_true_all)\n",
    "df_heatmap_false_all = pd.DataFrame(avg_heatmap_false_all)\n",
    "if classification == 'hc_doc':\n",
    "    file_name = 'heatmaps_hc_doc_unseparated.xlsx'\n",
    "    \n",
    "    # 读取现有的 Excel 文件\n",
    "    try:\n",
    "        book = load_workbook(file_name)\n",
    "        writer = pd.ExcelWriter(file_name, engine='openpyxl')\n",
    "        writer.book = book\n",
    "    except FileNotFoundError:\n",
    "        writer = pd.ExcelWriter(file_name, engine='openpyxl')\n",
    "        \n",
    "    # 每个数组保存为单独的工作表\n",
    "    df_heatmap_true_all.to_excel(writer, sheet_name=f'correct_all', index=False)\n",
    "    df_heatmap_false_all.to_excel(writer, sheet_name=f'false_all', index=False)\n",
    "\n",
    "    writer.save()\n",
    "    print(f\"HC/DOC 保存成功！\")\n",
    "\n",
    "elif classification == 'mcs_uws':\n",
    "    file_name = 'heatmaps_mcs_uws_unseparated.xlsx'\n",
    "    \n",
    "    # 读取现有的 Excel 文件\n",
    "    try:\n",
    "        book = load_workbook(file_name)\n",
    "        writer = pd.ExcelWriter(file_name, engine='openpyxl')\n",
    "        writer.book = book\n",
    "    except FileNotFoundError:\n",
    "        writer = pd.ExcelWriter(file_name, engine='openpyxl')\n",
    "    \n",
    "    # 每个数组保存为单独的工作表\n",
    "    df_heatmap_true_all.to_excel(writer, sheet_name=f'correct_all', index=False)\n",
    "    df_heatmap_false_all.to_excel(writer, sheet_name=f'false_all', index=False)\n",
    "        \n",
    "    writer.save()\n",
    "    print(f\"MCS/UWS 保存成功！\")"
   ]
  },
  {
   "cell_type": "code",
   "execution_count": null,
   "id": "8b4a2e7b",
   "metadata": {},
   "outputs": [],
   "source": []
  }
 ],
 "metadata": {
  "kernelspec": {
   "display_name": "Python [conda env:pytorch] *",
   "language": "python",
   "name": "conda-env-pytorch-py"
  },
  "language_info": {
   "codemirror_mode": {
    "name": "ipython",
    "version": 3
   },
   "file_extension": ".py",
   "mimetype": "text/x-python",
   "name": "python",
   "nbconvert_exporter": "python",
   "pygments_lexer": "ipython3",
   "version": "3.6.13"
  }
 },
 "nbformat": 4,
 "nbformat_minor": 5
}
